{
 "cells": [
  {
   "cell_type": "code",
   "execution_count": 2,
   "metadata": {},
   "outputs": [],
   "source": [
    "from sklearn import svm, datasets\n",
    "from sklearn.model_selection import train_test_split\n",
    "from sklearn.model_selection import GridSearchCV\n",
    "from sklearn.neighbors import KNeighborsClassifier"
   ]
  },
  {
   "cell_type": "code",
   "execution_count": 3,
   "metadata": {},
   "outputs": [],
   "source": [
    "iris = datasets.load_iris()\n",
    "x = iris.data\n",
    "y = iris.target"
   ]
  },
  {
   "cell_type": "code",
   "execution_count": 4,
   "metadata": {},
   "outputs": [],
   "source": [
    "x_train,x_test, y_train, y_test = train_test_split(x, y)"
   ]
  },
  {
   "cell_type": "code",
   "execution_count": 5,
   "metadata": {},
   "outputs": [
    {
     "data": {
      "text/plain": [
       "GridSearchCV(estimator=KNeighborsClassifier(),\n",
       "             param_grid={'n_neighbors': [3, 5, 7, 9, 11]})"
      ]
     },
     "execution_count": 5,
     "metadata": {},
     "output_type": "execute_result"
    }
   ],
   "source": [
    "clf = KNeighborsClassifier()\n",
    "grid = {\"n_neighbors\":[3,5,7,9,11]}\n",
    "abc = GridSearchCV(clf, grid)\n",
    "abc.fit(x_train, y_train)"
   ]
  },
  {
   "cell_type": "code",
   "execution_count": 6,
   "metadata": {},
   "outputs": [
    {
     "data": {
      "text/plain": [
       "KNeighborsClassifier(n_neighbors=3)"
      ]
     },
     "execution_count": 6,
     "metadata": {},
     "output_type": "execute_result"
    }
   ],
   "source": [
    "abc.best_estimator_"
   ]
  },
  {
   "cell_type": "code",
   "execution_count": 7,
   "metadata": {},
   "outputs": [
    {
     "data": {
      "text/plain": [
       "GridSearchCV(estimator=SVC(),\n",
       "             param_grid={'C': [100.0, 1000.0, 5000.0, 10000.0, 50000.0,\n",
       "                               100000.0],\n",
       "                         'gamma': [0.001, 0.0005, 0.0001, 0.005]})"
      ]
     },
     "execution_count": 7,
     "metadata": {},
     "output_type": "execute_result"
    }
   ],
   "source": [
    "clf = svm.SVC()\n",
    "grid = {'C' : [1e2, 1e3, 5e3, 1e4, 5e4, 1e5],\n",
    "       'gamma' : [1e-3, 5e-4, 1e-4, 5e-3]}\n",
    "abc = GridSearchCV(clf, grid)\n",
    "abc.fit(x_train, y_train)"
   ]
  },
  {
   "cell_type": "code",
   "execution_count": 8,
   "metadata": {},
   "outputs": [
    {
     "data": {
      "text/plain": [
       "SVC(C=100.0, gamma=0.005)"
      ]
     },
     "execution_count": 8,
     "metadata": {},
     "output_type": "execute_result"
    }
   ],
   "source": [
    "abc.best_estimator_"
   ]
  },
  {
   "cell_type": "code",
   "execution_count": 9,
   "metadata": {},
   "outputs": [
    {
     "data": {
      "text/plain": [
       "{'mean_fit_time': array([0.00259557, 0.00199795, 0.00159874, 0.00159969, 0.00119891,\n",
       "        0.00119925, 0.00119939, 0.00159965, 0.00119944, 0.0011972 ,\n",
       "        0.0011992 , 0.00099983, 0.00099945, 0.00099926, 0.00139956,\n",
       "        0.0009995 , 0.0011992 , 0.0015995 , 0.0011991 , 0.00120254,\n",
       "        0.00119896, 0.00099974, 0.00139928, 0.00099931]),\n",
       " 'std_fit_time': array([1.35916880e-03, 6.31958368e-04, 4.89318587e-04, 7.99012289e-04,\n",
       "        3.99995486e-04, 3.99589567e-04, 3.99518052e-04, 4.91031190e-04,\n",
       "        3.99613846e-04, 3.95488797e-04, 3.99255881e-04, 5.35248383e-07,\n",
       "        3.01578299e-07, 4.10190833e-07, 4.89551003e-04, 4.62310777e-07,\n",
       "        3.99732661e-04, 4.90427131e-04, 4.00257537e-04, 4.06408548e-04,\n",
       "        4.00090342e-04, 2.33601546e-07, 4.89687315e-04, 2.43140197e-07]),\n",
       " 'mean_score_time': array([0.00120263, 0.00080118, 0.00099936, 0.00079956, 0.00079913,\n",
       "        0.00079994, 0.00119929, 0.00079947, 0.00079975, 0.00059977,\n",
       "        0.00079932, 0.00059958, 0.00059972, 0.00059962, 0.00059967,\n",
       "        0.00059929, 0.00039992, 0.00080318, 0.00140142, 0.00059948,\n",
       "        0.00059643, 0.00079942, 0.00059962, 0.00059986]),\n",
       " 'std_score_time': array([9.78515665e-04, 1.16901836e-03, 1.90734863e-07, 3.99781212e-04,\n",
       "        3.99565821e-04, 3.99971179e-04, 3.98970804e-04, 3.99732831e-04,\n",
       "        3.99876010e-04, 4.89706714e-04, 3.99662014e-04, 4.89551027e-04,\n",
       "        4.89667781e-04, 4.89590378e-04, 4.89629002e-04, 4.89317867e-04,\n",
       "        4.89804093e-04, 4.01660275e-04, 4.93131032e-04, 4.89473136e-04,\n",
       "        4.87020605e-04, 3.99708872e-04, 4.89589960e-04, 4.89784582e-04]),\n",
       " 'param_C': masked_array(data=[100.0, 100.0, 100.0, 100.0, 1000.0, 1000.0, 1000.0,\n",
       "                    1000.0, 5000.0, 5000.0, 5000.0, 5000.0, 10000.0,\n",
       "                    10000.0, 10000.0, 10000.0, 50000.0, 50000.0, 50000.0,\n",
       "                    50000.0, 100000.0, 100000.0, 100000.0, 100000.0],\n",
       "              mask=[False, False, False, False, False, False, False, False,\n",
       "                    False, False, False, False, False, False, False, False,\n",
       "                    False, False, False, False, False, False, False, False],\n",
       "        fill_value='?',\n",
       "             dtype=object),\n",
       " 'param_gamma': masked_array(data=[0.001, 0.0005, 0.0001, 0.005, 0.001, 0.0005, 0.0001,\n",
       "                    0.005, 0.001, 0.0005, 0.0001, 0.005, 0.001, 0.0005,\n",
       "                    0.0001, 0.005, 0.001, 0.0005, 0.0001, 0.005, 0.001,\n",
       "                    0.0005, 0.0001, 0.005],\n",
       "              mask=[False, False, False, False, False, False, False, False,\n",
       "                    False, False, False, False, False, False, False, False,\n",
       "                    False, False, False, False, False, False, False, False],\n",
       "        fill_value='?',\n",
       "             dtype=object),\n",
       " 'params': [{'C': 100.0, 'gamma': 0.001},\n",
       "  {'C': 100.0, 'gamma': 0.0005},\n",
       "  {'C': 100.0, 'gamma': 0.0001},\n",
       "  {'C': 100.0, 'gamma': 0.005},\n",
       "  {'C': 1000.0, 'gamma': 0.001},\n",
       "  {'C': 1000.0, 'gamma': 0.0005},\n",
       "  {'C': 1000.0, 'gamma': 0.0001},\n",
       "  {'C': 1000.0, 'gamma': 0.005},\n",
       "  {'C': 5000.0, 'gamma': 0.001},\n",
       "  {'C': 5000.0, 'gamma': 0.0005},\n",
       "  {'C': 5000.0, 'gamma': 0.0001},\n",
       "  {'C': 5000.0, 'gamma': 0.005},\n",
       "  {'C': 10000.0, 'gamma': 0.001},\n",
       "  {'C': 10000.0, 'gamma': 0.0005},\n",
       "  {'C': 10000.0, 'gamma': 0.0001},\n",
       "  {'C': 10000.0, 'gamma': 0.005},\n",
       "  {'C': 50000.0, 'gamma': 0.001},\n",
       "  {'C': 50000.0, 'gamma': 0.0005},\n",
       "  {'C': 50000.0, 'gamma': 0.0001},\n",
       "  {'C': 50000.0, 'gamma': 0.005},\n",
       "  {'C': 100000.0, 'gamma': 0.001},\n",
       "  {'C': 100000.0, 'gamma': 0.0005},\n",
       "  {'C': 100000.0, 'gamma': 0.0001},\n",
       "  {'C': 100000.0, 'gamma': 0.005}],\n",
       " 'split0_test_score': array([0.95652174, 0.95652174, 0.95652174, 1.        , 1.        ,\n",
       "        1.        , 0.95652174, 0.95652174, 0.95652174, 0.95652174,\n",
       "        1.        , 0.95652174, 0.95652174, 0.95652174, 1.        ,\n",
       "        0.95652174, 0.95652174, 0.95652174, 0.95652174, 1.        ,\n",
       "        1.        , 0.95652174, 0.95652174, 1.        ]),\n",
       " 'split1_test_score': array([1., 1., 1., 1., 1., 1., 1., 1., 1., 1., 1., 1., 1., 1., 1., 1., 1.,\n",
       "        1., 1., 1., 1., 1., 1., 1.]),\n",
       " 'split2_test_score': array([0.95454545, 0.90909091, 0.90909091, 0.95454545, 1.        ,\n",
       "        0.95454545, 0.95454545, 0.95454545, 0.95454545, 0.95454545,\n",
       "        0.95454545, 1.        , 1.        , 0.95454545, 1.        ,\n",
       "        0.95454545, 0.95454545, 1.        , 0.95454545, 0.95454545,\n",
       "        0.95454545, 0.95454545, 1.        , 0.95454545]),\n",
       " 'split3_test_score': array([0.95454545, 0.95454545, 0.90909091, 0.95454545, 0.95454545,\n",
       "        0.95454545, 0.95454545, 0.95454545, 0.95454545, 0.95454545,\n",
       "        0.95454545, 0.95454545, 0.95454545, 0.95454545, 0.95454545,\n",
       "        0.95454545, 0.95454545, 0.95454545, 0.95454545, 0.95454545,\n",
       "        0.95454545, 0.95454545, 0.95454545, 0.95454545]),\n",
       " 'split4_test_score': array([0.95454545, 0.95454545, 0.90909091, 1.        , 0.95454545,\n",
       "        1.        , 0.95454545, 0.90909091, 0.90909091, 0.95454545,\n",
       "        1.        , 0.86363636, 0.90909091, 0.90909091, 0.95454545,\n",
       "        0.86363636, 0.86363636, 0.86363636, 0.90909091, 0.86363636,\n",
       "        0.86363636, 0.86363636, 0.90909091, 0.86363636]),\n",
       " 'mean_test_score': array([0.96403162, 0.95494071, 0.93675889, 0.98181818, 0.98181818,\n",
       "        0.98181818, 0.96403162, 0.95494071, 0.95494071, 0.96403162,\n",
       "        0.98181818, 0.95494071, 0.96403162, 0.95494071, 0.98181818,\n",
       "        0.9458498 , 0.9458498 , 0.95494071, 0.95494071, 0.95454545,\n",
       "        0.95454545, 0.9458498 , 0.96403162, 0.95454545]),\n",
       " 'std_test_score': array([0.01800047, 0.02875885, 0.03656928, 0.02226809, 0.02226809,\n",
       "        0.02226809, 0.01800047, 0.02875885, 0.02875885, 0.01800047,\n",
       "        0.02226809, 0.04979923, 0.03391848, 0.02875885, 0.02226809,\n",
       "        0.04462379, 0.04462379, 0.04979923, 0.02875885, 0.04979296,\n",
       "        0.04979296, 0.04462379, 0.03391848, 0.04979296]),\n",
       " 'rank_test_score': array([ 6, 11, 24,  1,  1,  1,  6, 11, 11,  6,  1, 11,  9, 11,  1, 21, 21,\n",
       "        11, 11, 18, 18, 21,  9, 18])}"
      ]
     },
     "execution_count": 9,
     "metadata": {},
     "output_type": "execute_result"
    }
   ],
   "source": [
    "abc.cv_results_"
   ]
  },
  {
   "cell_type": "code",
   "execution_count": 10,
   "metadata": {},
   "outputs": [
    {
     "data": {
      "text/plain": [
       "24"
      ]
     },
     "execution_count": 10,
     "metadata": {},
     "output_type": "execute_result"
    }
   ],
   "source": [
    "len([{'C': 100.0, 'gamma': 0.001},\n",
    "  {'C': 100.0, 'gamma': 0.0005},\n",
    "  {'C': 100.0, 'gamma': 0.0001},\n",
    "  {'C': 100.0, 'gamma': 0.005},\n",
    "  {'C': 1000.0, 'gamma': 0.001},\n",
    "  {'C': 1000.0, 'gamma': 0.0005},\n",
    "  {'C': 1000.0, 'gamma': 0.0001},\n",
    "  {'C': 1000.0, 'gamma': 0.005},\n",
    "  {'C': 5000.0, 'gamma': 0.001},\n",
    "  {'C': 5000.0, 'gamma': 0.0005},\n",
    "  {'C': 5000.0, 'gamma': 0.0001},\n",
    "  {'C': 5000.0, 'gamma': 0.005},\n",
    "  {'C': 10000.0, 'gamma': 0.001},\n",
    "  {'C': 10000.0, 'gamma': 0.0005},\n",
    "  {'C': 10000.0, 'gamma': 0.0001},\n",
    "  {'C': 10000.0, 'gamma': 0.005},\n",
    "  {'C': 50000.0, 'gamma': 0.001},\n",
    "  {'C': 50000.0, 'gamma': 0.0005},\n",
    "  {'C': 50000.0, 'gamma': 0.0001},\n",
    "  {'C': 50000.0, 'gamma': 0.005},\n",
    "  {'C': 100000.0, 'gamma': 0.001},\n",
    "  {'C': 100000.0, 'gamma': 0.0005},\n",
    "  {'C': 100000.0, 'gamma': 0.0001},\n",
    "  {'C': 100000.0, 'gamma': 0.005}])"
   ]
  },
  {
   "cell_type": "code",
   "execution_count": null,
   "metadata": {},
   "outputs": [],
   "source": []
  }
 ],
 "metadata": {
  "kernelspec": {
   "display_name": "Python 3 (ipykernel)",
   "language": "python",
   "name": "python3"
  },
  "language_info": {
   "codemirror_mode": {
    "name": "ipython",
    "version": 3
   },
   "file_extension": ".py",
   "mimetype": "text/x-python",
   "name": "python",
   "nbconvert_exporter": "python",
   "pygments_lexer": "ipython3",
   "version": "3.9.12"
  }
 },
 "nbformat": 4,
 "nbformat_minor": 2
}
