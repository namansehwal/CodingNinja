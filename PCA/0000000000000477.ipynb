{
 "cells": [
  {
   "cell_type": "markdown",
   "metadata": {
    "id": "h8G6Rd7EUotd"
   },
   "source": [
    "#**Principal Component Analysis (PCA)**"
   ]
  },
  {
   "cell_type": "markdown",
   "metadata": {
    "id": "j_C2Q4BPLQnx"
   },
   "source": [
    "##**What will you learn?**\n",
    "1. **Introduction:** What is PCA?\n",
    "2. **Advantages and Disadvantages of Dimensionality Reduction**\n",
    "3. **PCA vs Linear Regression:** What is the difference?\n",
    "4. **Applications of PCA**\n",
    "5. **PCA on 2D Data**\n",
    "6. **PCA on 3D Data**\n",
    "7. **Analysis of Breast Cancer Dataset**\n",
    "8. **Math Behind PCA:** Covariance Matrix, Eigen Values and SVD\n",
    "10. **Self Implementation of PCA**\n",
    "11. **How to select K (n_components):** How to select the correct number of components to retain?"
   ]
  },
  {
   "cell_type": "markdown",
   "metadata": {
    "id": "PXVOB7K8LfIX"
   },
   "source": [
    "##**Introduction**"
   ]
  },
  {
   "cell_type": "markdown",
   "metadata": {
    "id": "YkICIZpKUoxS"
   },
   "source": [
    "Principal Component Analysis (PCA) is an unsupervised, non-parametric statistical technique primarily used for dimensionality reduction in machine learning."
   ]
  },
  {
   "cell_type": "markdown",
   "metadata": {
    "id": "hAYZcmfXd_SN"
   },
   "source": [
    "Particularly, in this we transform variables into a new set of variables which are a linear combination of the original variables. These new set of variables are known as principal components."
   ]
  },
  {
   "cell_type": "markdown",
   "metadata": {
    "id": "5V78oZ8GUo0b"
   },
   "source": [
    "**Dimensionality Reduction**: In many datasets there are often too many features based on which the conclusion is drawn. The higher the number of features, the harder it gets to visualize the training set and then work on it. Sometimes, most of these features are correlated, and hence redundant. It can be imagined that 2D data with linearly dependent features can be reduced to a single dimension. This is where dimensionality reduction algorithms come into play. \n",
    "\n",
    "Dimensionality reduction is the process of reducing the number of random variables under consideration, by obtaining a set of principal variables."
   ]
  },
  {
   "cell_type": "markdown",
   "metadata": {
    "id": "MaXoUTkWb3JK"
   },
   "source": [
    "It is the process of projection a space of large number of dimensions into less number of dimensions."
   ]
  },
  {
   "cell_type": "markdown",
   "metadata": {
    "id": "t-Ldv0ADu72w"
   },
   "source": [
    "###**Advantages of Dimensionality Reduction**"
   ]
  },
  {
   "cell_type": "markdown",
   "metadata": {
    "id": "rskJWqItv2vn"
   },
   "source": [
    "1. It reduces the time and storage space required.\n",
    "\n",
    "2. Removal of multi-collinearity improves the performance of the machine-learning model.\n",
    "\n",
    "3. It becomes easier to visualize the data when reduced to very low dimensions such as 2D or 3D."
   ]
  },
  {
   "cell_type": "markdown",
   "metadata": {
    "id": "uPFGwOFAu70Z"
   },
   "source": [
    "###**Disadvantages of Dimensionality Reduction**"
   ]
  },
  {
   "cell_type": "markdown",
   "metadata": {
    "id": "OajzpyZnu7yE"
   },
   "source": [
    "1. It may lead to some amount of data loss.\n",
    "\n",
    "2. It tends to find linear correlations between variables, which is sometimes undesirable.\n",
    "\n",
    "3. It fails in cases where mean and covariance are not enough to define datasets.\n",
    "\n",
    "4. We may not know how many principal components or dimensions should be kept. In practice, some thumb rules are applied."
   ]
  },
  {
   "cell_type": "markdown",
   "metadata": {
    "id": "MkzDCSHqwR0q"
   },
   "source": [
    "##**PCA vs Linear Regression**"
   ]
  },
  {
   "cell_type": "markdown",
   "metadata": {
    "id": "TEtLENo2wVD0"
   },
   "source": [
    "One might feel like we’re supposed to fit a line between multiple dimensions exploiting their linear dependence to obtain a single dimension just like linear regression, but it’s not true, linear regression and PCA are two separate things. Here in PCA we’re not trying to predict something on basis of a line. PCA is trying to find a lower dimension surface of line onto which it should project the data, so as to minimize the squared projection error. Square projection error is the perpendicular distance from principal vector, while in linear regression the SSE is the difference in y value (see diagram for clarity).\n",
    "\n",
    "<img src = \"https://files.codingninjas.in/3pca-7581.bmp\">"
   ]
  },
  {
   "cell_type": "markdown",
   "metadata": {
    "id": "6V4HAsypZ7nu"
   },
   "source": [
    "##**Application of PCA**"
   ]
  },
  {
   "cell_type": "markdown",
   "metadata": {
    "id": "a7u65ItAZ7kQ"
   },
   "source": [
    "1. **Data Compression:** Reducing the data from higher dimensions to fewer dimensions, thus saving space.\n",
    "\n",
    "   If $x \\in R_2 (2D) $ after compression $z \\in R(1D)$"
   ]
  },
  {
   "cell_type": "markdown",
   "metadata": {
    "id": "Ab1p8FWtcImy"
   },
   "source": [
    "<img src=\"https://files.codingninjas.in/1pca-7565.bmp\" width=\"800\">"
   ]
  },
  {
   "cell_type": "markdown",
   "metadata": {
    "id": "URqBWXsZZ7iO"
   },
   "source": [
    "2. **Data visualization**: It becomes easier to visualize the data when reduced to very low dimensions such as 2D or 3D.\n",
    "\n",
    "3. **Increase Speed and Performance**: Removal of multi-collinearity improves the performance of the machine-learning model.\n"
   ]
  },
  {
   "cell_type": "markdown",
   "metadata": {
    "id": "HMXPWX53Z7YJ"
   },
   "source": [
    "##**PCA on 2D Data**"
   ]
  },
  {
   "cell_type": "markdown",
   "metadata": {
    "id": "uKWGbnzfZ7S9"
   },
   "source": [
    "Here, we will use the scikit-learn PCA.\n",
    "PCA takes 'n_components' as an argument which specifies the number of components we want after PCA. e.g. if we want our 3D data to be converted into 2D, then the number of components will be 2. "
   ]
  },
  {
   "cell_type": "markdown",
   "metadata": {
    "id": "dSYmGKdIZ7Hv"
   },
   "source": [
    "For more details, you can refer to the documentation of PCA\n",
    "\n",
    "https://scikit-learn.org/stable/modules/generated/sklearn.decomposition.PCA.html"
   ]
  },
  {
   "cell_type": "code",
   "execution_count": 1,
   "metadata": {
    "id": "Ws-pXz7OZ0eo"
   },
   "outputs": [],
   "source": [
    "import numpy as np\n",
    "import matplotlib.pyplot as plt\n",
    "from sklearn.decomposition import PCA"
   ]
  },
  {
   "cell_type": "code",
   "execution_count": 2,
   "metadata": {
    "id": "es0w3qfzjfHD"
   },
   "outputs": [],
   "source": [
    "x1 = np.array([1,2,3,4,5,6])\n",
    "x2 = np.array([7.5, 11, 16, 18, 20, 26])"
   ]
  },
  {
   "cell_type": "code",
   "execution_count": 3,
   "metadata": {
    "colab": {
     "base_uri": "https://localhost:8080/",
     "height": 265
    },
    "id": "OjdCPn-7jhWi",
    "outputId": "8ae5d77a-2ba9-49c1-aa8a-ba748b18094b"
   },
   "outputs": [
    {
     "data": {
      "image/png": "[encoded data removed]",
      "text/plain": [
       "<Figure size 432x288 with 1 Axes>"
      ]
     },
     "metadata": {
      "needs_background": "light"
     },
     "output_type": "display_data"
    }
   ],
   "source": [
    "plt.scatter(x1, x2)\n",
    "plt.show()"
   ]
  },
  {
   "cell_type": "code",
   "execution_count": 4,
   "metadata": {
    "colab": {
     "base_uri": "https://localhost:8080/"
    },
    "id": "UnkwPA7Gji86",
    "outputId": "d2602935-e184-4642-97f6-448a728e870c"
   },
   "outputs": [
    {
     "data": {
      "text/plain": [
       "array([[ 1. ,  7.5],\n",
       "       [ 2. , 11. ],\n",
       "       [ 3. , 16. ],\n",
       "       [ 4. , 18. ],\n",
       "       [ 5. , 20. ],\n",
       "       [ 6. , 26. ]])"
      ]
     },
     "execution_count": 4,
     "metadata": {},
     "output_type": "execute_result"
    }
   ],
   "source": [
    "X = np.c_[x1, x2] #conversion of 2 lists into a 2D matrix\n",
    "X"
   ]
  },
  {
   "cell_type": "code",
   "execution_count": 5,
   "metadata": {
    "id": "9Cb2J0sojm5a"
   },
   "outputs": [],
   "source": [
    "pca = PCA(n_components = 1)\n",
    "X_reduced = pca.fit_transform(X) #Convert the data from 2D to 1D. "
   ]
  },
  {
   "cell_type": "code",
   "execution_count": 6,
   "metadata": {
    "colab": {
     "base_uri": "https://localhost:8080/"
    },
    "id": "_D7d1dQ1jpD1",
    "outputId": "69b0eba6-0251-4ed1-d5b8-65b6918b67d4"
   },
   "outputs": [
    {
     "data": {
      "text/plain": [
       "array([[ 0.99070848,  7.50261555],\n",
       "       [ 1.97703643, 11.00646421],\n",
       "       [ 3.35460926, 15.90017805],\n",
       "       [ 3.94969232, 18.01416153],\n",
       "       [ 4.54477538, 20.12814502],\n",
       "       [ 6.18317813, 25.94843564]])"
      ]
     },
     "execution_count": 6,
     "metadata": {},
     "output_type": "execute_result"
    }
   ],
   "source": [
    "X_approx = pca.inverse_transform(X_reduced) #Getting back the original data\n",
    "X_approx"
   ]
  },
  {
   "cell_type": "markdown",
   "metadata": {
    "id": "GYDGTB1hl5it"
   },
   "source": [
    "Here, some information is lost as you can see from X and X_approx. "
   ]
  },
  {
   "cell_type": "code",
   "execution_count": 7,
   "metadata": {
    "colab": {
     "base_uri": "https://localhost:8080/",
     "height": 265
    },
    "id": "r9h3ysk9jq8c",
    "outputId": "5c2098f5-4a56-4295-c813-13a80dd80a78"
   },
   "outputs": [
    {
     "data": {
      "image/png": "[encoded data removed]",
      "text/plain": [
       "<Figure size 432x288 with 1 Axes>"
      ]
     },
     "metadata": {
      "needs_background": "light"
     },
     "output_type": "display_data"
    }
   ],
   "source": [
    "plt.plot(X_approx[:, 0], X_approx[:, 1])\n",
    "plt.show()"
   ]
  },
  {
   "cell_type": "markdown",
   "metadata": {
    "id": "LRRtTLn4voNe"
   },
   "source": [
    "##**PCA ON 3D Data**"
   ]
  },
  {
   "cell_type": "markdown",
   "metadata": {
    "id": "e9tscoOGvuwy"
   },
   "source": [
    "Here, we will learn how to apply sckiti-learn PCA on a 3D data and convert the data into a 2D one."
   ]
  },
  {
   "cell_type": "code",
   "execution_count": 8,
   "metadata": {
    "id": "aQKfc887vsqV"
   },
   "outputs": [],
   "source": [
    "import numpy as np\n",
    "import matplotlib.pyplot as plt\n",
    "from sklearn.decomposition import PCA"
   ]
  },
  {
   "cell_type": "code",
   "execution_count": 9,
   "metadata": {
    "id": "7tJgZDDOwPG9"
   },
   "outputs": [],
   "source": [
    "np.random.seed(2343243) #To generate same data no matter how many times we run this"
   ]
  },
  {
   "cell_type": "code",
   "execution_count": 10,
   "metadata": {
    "id": "N8LsYlqbwQ7S"
   },
   "outputs": [],
   "source": [
    "mean_vec1 = np.array([0,0,0])\n",
    "cov_mat1 = np.array([[1,0,0],[0,1,0],[0,0,1]])\n",
    "class1 = np.random.multivariate_normal(mean_vec1, cov_mat1, 100) #Using normal distribution to generate the data"
   ]
  },
  {
   "cell_type": "code",
   "execution_count": 11,
   "metadata": {
    "id": "eW2mReEDw8wV"
   },
   "outputs": [],
   "source": [
    "mean_vec2 = np.array([1,1,1])\n",
    "cov_mat2 = np.array([[1,0,0],[0,1,0],[0,0,1]])\n",
    "class2 = np.random.multivariate_normal(mean_vec2, cov_mat2, 100)"
   ]
  },
  {
   "cell_type": "code",
   "execution_count": 12,
   "metadata": {
    "id": "A1R164auxHoy"
   },
   "outputs": [],
   "source": [
    "from matplotlib import pyplot as plt\n",
    "from mpl_toolkits.mplot3d import Axes3D, proj3d"
   ]
  },
  {
   "cell_type": "code",
   "execution_count": 13,
   "metadata": {
    "colab": {
     "base_uri": "https://localhost:8080/",
     "height": 466
    },
    "id": "Ux2bGF4UxKWu",
    "outputId": "8c9ab112-ff6a-49d2-faff-9b63f3f5ca9e"
   },
   "outputs": [
    {
     "data": {
      "image/png": "[encoded data removed]",
      "text/plain": [
       "<Figure size 576x576 with 1 Axes>"
      ]
     },
     "metadata": {
      "needs_background": "light"
     },
     "output_type": "display_data"
    }
   ],
   "source": [
    "fig = plt.figure(figsize=(8,8))\n",
    "ax = fig.add_subplot(111,projection='3d')\n",
    "ax.plot(class1[:, 0], class1[:, 1], class1[:, 2], 'o')\n",
    "ax.plot(class2[:, 0], class2[:, 1], class2[:, 2], '^')\n",
    "plt.show()  #3D plot of the data"
   ]
  },
  {
   "cell_type": "code",
   "execution_count": 14,
   "metadata": {
    "id": "EMphhUwJxMjT"
   },
   "outputs": [],
   "source": [
    "all_data = np.concatenate((class1, class2))"
   ]
  },
  {
   "cell_type": "code",
   "execution_count": 15,
   "metadata": {
    "colab": {
     "base_uri": "https://localhost:8080/"
    },
    "id": "Uky4Ed8ZyKvG",
    "outputId": "e5a3f77c-aefc-4a76-dd80-9a41de144c73"
   },
   "outputs": [
    {
     "data": {
      "text/plain": [
       "array([[-0.52351425, -0.63301617],\n",
       "       [-0.78786184,  0.94206431],\n",
       "       [-1.28725924,  0.54439067],\n",
       "       [ 0.66747707,  1.69846274],\n",
       "       [-1.74150174, -0.755306  ],\n",
       "       [-1.03559449, -1.53950125],\n",
       "       [-0.21765053, -0.85555712],\n",
       "       [-0.7648506 , -0.46590375],\n",
       "       [-0.64255217,  1.16920769],\n",
       "       [-0.5783154 , -0.30888845],\n",
       "       [ 0.25251683, -0.38101091],\n",
       "       [-0.26298255, -0.44282938],\n",
       "       [-0.86147962,  0.21339394],\n",
       "       [-0.9917517 , -0.32293363],\n",
       "       [-1.3133147 ,  0.01268907],\n",
       "       [-1.09145198, -0.50248537],\n",
       "       [-2.05840949, -1.13678107],\n",
       "       [-0.62975084, -1.78591257],\n",
       "       [-1.75005325, -1.27909834],\n",
       "       [-0.66142546,  1.66188479],\n",
       "       [-0.34624366,  0.47524286],\n",
       "       [ 0.77989322,  0.76153114],\n",
       "       [-0.22203858, -0.7362751 ],\n",
       "       [-1.06469867,  0.33693758],\n",
       "       [-1.93640401, -0.97234577],\n",
       "       [-2.44237038, -0.34276504],\n",
       "       [-1.7918403 ,  0.40615644],\n",
       "       [ 0.33656537,  1.36869154],\n",
       "       [-1.38894876,  2.11311246],\n",
       "       [-0.27334886,  1.03336393],\n",
       "       [-0.42984247,  1.24328576],\n",
       "       [-0.50899936, -0.46716237],\n",
       "       [ 0.02470087, -2.09538462],\n",
       "       [-0.69498375, -1.15775122],\n",
       "       [-1.7742564 , -2.71676693],\n",
       "       [-0.33694775, -0.62140146],\n",
       "       [-0.95534408, -0.62683881],\n",
       "       [-1.71598966, -0.83576627],\n",
       "       [-0.17062525, -0.1486264 ],\n",
       "       [-0.54132765, -0.86378001],\n",
       "       [-1.42291437,  1.35308027],\n",
       "       [-1.85189674, -0.18755871],\n",
       "       [-2.23303749, -0.24799871],\n",
       "       [-0.58592638, -1.91673658],\n",
       "       [-0.37670455, -2.50763442],\n",
       "       [ 0.27096673,  1.80573487],\n",
       "       [-0.29184943, -0.62483518],\n",
       "       [-0.77551423,  0.70183761],\n",
       "       [-1.85346608,  0.5104488 ],\n",
       "       [-0.44976368, -1.4087769 ],\n",
       "       [ 0.06344231, -1.59933786],\n",
       "       [-0.63520512, -0.31105377],\n",
       "       [-1.26938016, -0.26413572],\n",
       "       [-2.57959447,  0.01929072],\n",
       "       [ 0.53542659, -0.98174522],\n",
       "       [-0.78962242, -0.97623005],\n",
       "       [-0.22595204, -0.64714155],\n",
       "       [-1.00146128, -1.44198856],\n",
       "       [-0.14124342,  0.95893575],\n",
       "       [-1.02775583, -0.47233377],\n",
       "       [-1.5409423 , -0.67265151],\n",
       "       [ 1.19669461, -1.1275296 ],\n",
       "       [ 0.61897367, -0.36908962],\n",
       "       [-0.89771189, -0.83654527],\n",
       "       [ 0.1497064 , -0.72470705],\n",
       "       [-0.52387017,  0.08193893],\n",
       "       [ 0.35329012,  0.55048246],\n",
       "       [-1.3421855 ,  1.7383462 ],\n",
       "       [-1.06545999, -2.08702312],\n",
       "       [-0.9513408 ,  0.19118833],\n",
       "       [-0.06375196,  0.45382468],\n",
       "       [-2.62815089, -0.08918537],\n",
       "       [ 1.27683136,  0.67331108],\n",
       "       [-1.91069657, -1.30502922],\n",
       "       [-0.7277663 ,  0.69085114],\n",
       "       [-0.93347874, -0.87915584],\n",
       "       [-1.35953926,  1.00890223],\n",
       "       [-0.31219254,  1.47432041],\n",
       "       [-1.28581671,  0.80717562],\n",
       "       [-1.52347132, -1.29594362],\n",
       "       [-1.94477253, -0.73449292],\n",
       "       [ 0.13550363, -0.37480394],\n",
       "       [ 0.21237165, -0.73535553],\n",
       "       [-0.41718239,  1.97400413],\n",
       "       [-0.71592512,  0.60767579],\n",
       "       [-1.16292275, -1.00105198],\n",
       "       [-0.29595134, -0.27922178],\n",
       "       [-1.06749546,  0.09253673],\n",
       "       [-1.4517655 , -1.1147397 ],\n",
       "       [-1.31082973,  0.76007149],\n",
       "       [-0.4962933 ,  1.8629463 ],\n",
       "       [-0.6521151 , -1.33071851],\n",
       "       [ 0.58239061, -0.25981121],\n",
       "       [-0.39087138,  2.38024866],\n",
       "       [-0.87236423,  0.81172083],\n",
       "       [-1.288548  , -0.82140316],\n",
       "       [-0.94127331,  0.2257478 ],\n",
       "       [-1.81673078, -0.39745006],\n",
       "       [-0.47151101,  0.51619497],\n",
       "       [-0.12471835,  1.57931506],\n",
       "       [-0.2333789 , -0.46920164],\n",
       "       [ 1.77514911, -0.90003083],\n",
       "       [ 0.52244899,  0.67390507],\n",
       "       [ 1.59233744,  0.32430528],\n",
       "       [ 0.46854895,  0.55353527],\n",
       "       [ 0.31218121, -0.8940621 ],\n",
       "       [ 0.1430908 ,  2.79271235],\n",
       "       [-0.22135048,  1.03717583],\n",
       "       [-0.77525778, -0.42004219],\n",
       "       [ 0.08427901, -0.03900046],\n",
       "       [ 1.84027754, -0.15824697],\n",
       "       [ 1.12400028,  1.00820775],\n",
       "       [ 1.04548921, -1.42749634],\n",
       "       [-0.14903034, -1.1297112 ],\n",
       "       [ 2.41605469, -0.18509727],\n",
       "       [ 0.37611537,  1.04859095],\n",
       "       [ 1.15533788,  1.06199142],\n",
       "       [ 0.69620442, -0.62102473],\n",
       "       [ 0.90860719,  0.08548765],\n",
       "       [ 0.94918859,  0.39164384],\n",
       "       [ 0.28655826,  0.91695954],\n",
       "       [ 1.13027695, -1.38951072],\n",
       "       [-0.14198239,  1.00908426],\n",
       "       [ 0.93013915, -0.27244281],\n",
       "       [ 1.74619877,  0.2850234 ],\n",
       "       [-0.52548702,  1.3751728 ],\n",
       "       [ 1.23958787,  0.81326593],\n",
       "       [ 0.13349868,  0.12331482],\n",
       "       [ 0.93276008, -0.56512261],\n",
       "       [ 2.8424523 , -0.19558779],\n",
       "       [ 1.36277565, -0.63436101],\n",
       "       [ 1.76354563,  0.66138324],\n",
       "       [ 2.18182089,  0.33242498],\n",
       "       [ 2.6993603 , -0.03168772],\n",
       "       [-1.27752553,  0.9223314 ],\n",
       "       [ 2.3546828 , -1.54331222],\n",
       "       [ 1.86112257, -1.61148743],\n",
       "       [ 0.86958067, -0.32893313],\n",
       "       [ 0.4082078 ,  1.08569035],\n",
       "       [ 0.6099754 , -0.24299445],\n",
       "       [ 2.18212661, -1.20727801],\n",
       "       [ 1.02184305, -0.48828492],\n",
       "       [ 1.21887488,  0.40654078],\n",
       "       [-0.24345643,  1.74806028],\n",
       "       [ 2.11435891,  0.12289064],\n",
       "       [-0.87393667,  1.39992241],\n",
       "       [ 0.52617777, -0.25027973],\n",
       "       [ 1.8872196 ,  0.28267527],\n",
       "       [ 1.00592762, -1.73850677],\n",
       "       [ 0.93314259, -0.25864076],\n",
       "       [-0.80978283,  0.95598422],\n",
       "       [ 0.59605747,  0.50611262],\n",
       "       [ 3.63910831,  0.09909513],\n",
       "       [ 0.65434265,  2.12897514],\n",
       "       [ 1.22478232,  0.35533766],\n",
       "       [ 0.06791964, -0.92706143],\n",
       "       [-0.68671815,  2.50847502],\n",
       "       [-0.90473506, -0.1048157 ],\n",
       "       [-0.60222244, -0.25232199],\n",
       "       [-1.20238752, -0.31638038],\n",
       "       [ 1.02115043,  0.7349175 ],\n",
       "       [ 1.24407975,  0.36256795],\n",
       "       [ 2.4553527 , -0.20845023],\n",
       "       [ 2.15085119, -2.46909208],\n",
       "       [ 0.62076801, -0.48044831],\n",
       "       [-0.33434796,  1.44939262],\n",
       "       [ 1.50148911, -0.84131673],\n",
       "       [ 1.44447539, -0.54268973],\n",
       "       [-1.79306822, -0.03627876],\n",
       "       [ 0.79866556,  0.49283526],\n",
       "       [-0.53303576,  1.17144288],\n",
       "       [ 0.43758467,  1.72596917],\n",
       "       [ 1.83806565,  0.58069003],\n",
       "       [-0.40186546,  0.473525  ],\n",
       "       [ 1.22638678,  1.61491434],\n",
       "       [-0.68430314, -0.56667657],\n",
       "       [ 0.50307128,  0.18514346],\n",
       "       [ 1.41924241, -2.02148816],\n",
       "       [ 1.25741968,  0.13284036],\n",
       "       [ 0.67269337, -0.01160618],\n",
       "       [ 1.99510147,  1.04101326],\n",
       "       [ 0.96293403, -0.21085447],\n",
       "       [ 1.39508575,  1.19376438],\n",
       "       [ 2.12221059, -0.06010674],\n",
       "       [ 0.90835032, -0.7004265 ],\n",
       "       [-0.34276789,  2.61583737],\n",
       "       [ 0.19796248, -0.33412099],\n",
       "       [-1.0010209 ,  1.08791556],\n",
       "       [-0.11926903,  0.53439076],\n",
       "       [ 1.08281063, -0.14954395],\n",
       "       [-0.99951979, -0.13767305],\n",
       "       [ 1.02566597,  0.24641328],\n",
       "       [ 0.14836986, -0.45451158],\n",
       "       [ 2.61044001, -1.7352295 ],\n",
       "       [ 0.97103269, -0.28440227],\n",
       "       [ 1.78796938,  1.30768935],\n",
       "       [-0.82884636,  1.11902699],\n",
       "       [ 0.78200742, -0.40152794],\n",
       "       [ 1.09316808, -0.46352319],\n",
       "       [ 0.51326687, -0.16671638]])"
      ]
     },
     "execution_count": 15,
     "metadata": {},
     "output_type": "execute_result"
    }
   ],
   "source": [
    "pca = PCA(n_components = 2) #converting 3D data into 2D\n",
    "transformed_data = pca.fit_transform(all_data)\n",
    "transformed_data"
   ]
  },
  {
   "cell_type": "code",
   "execution_count": 16,
   "metadata": {
    "colab": {
     "base_uri": "https://localhost:8080/"
    },
    "id": "kh50W3WfyNFb",
    "outputId": "b53be5eb-a954-4dc1-a3fd-3f576170490f"
   },
   "outputs": [
    {
     "data": {
      "text/plain": [
       "array([[ 0.41124564,  0.64810013,  0.64097055],\n",
       "       [ 0.91063567, -0.26106644, -0.32029202]])"
      ]
     },
     "execution_count": 16,
     "metadata": {},
     "output_type": "execute_result"
    }
   ],
   "source": [
    "pca.components_"
   ]
  },
  {
   "cell_type": "code",
   "execution_count": 17,
   "metadata": {
    "colab": {
     "base_uri": "https://localhost:8080/",
     "height": 267
    },
    "id": "JlrgA4KiygTS",
    "outputId": "6e37d5af-7918-4d9b-c217-db24dea6fc3d"
   },
   "outputs": [
    {
     "data": {
      "image/png": "[encoded data removed]",
      "text/plain": [
       "<Figure size 432x288 with 1 Axes>"
      ]
     },
     "metadata": {
      "needs_background": "light"
     },
     "output_type": "display_data"
    }
   ],
   "source": [
    "plt.plot(transformed_data[0:100,0],transformed_data[0:100,1],\"o\")\n",
    "plt.plot(transformed_data[100:200,0],transformed_data[100:200,1],\"^\")\n",
    "plt.show() #2D plot of the transformed data "
   ]
  },
  {
   "cell_type": "code",
   "execution_count": 18,
   "metadata": {
    "colab": {
     "base_uri": "https://localhost:8080/",
     "height": 466
    },
    "id": "so5jH086y1am",
    "outputId": "677b0645-aeff-4d3e-b8e1-97c30741e768"
   },
   "outputs": [
    {
     "data": {
      "image/png": "[encoded data removed]",
      "text/plain": [
       "<Figure size 576x576 with 1 Axes>"
      ]
     },
     "metadata": {
      "needs_background": "light"
     },
     "output_type": "display_data"
    }
   ],
   "source": [
    "X_approx = pca.inverse_transform(transformed_data) #converting the 2D data back into 3D\n",
    "fig = plt.figure(figsize=(8,8))\n",
    "ax = fig.add_subplot(111,projection='3d')\n",
    "ax.plot(X_approx[:, 0], X_approx[:, 1], X_approx[:, 2], '^')\n",
    "plt.show()"
   ]
  },
  {
   "cell_type": "markdown",
   "metadata": {
    "id": "CkJDFGNsxZUJ"
   },
   "source": [
    "##**Analysis on Breast Cancer Dataset**"
   ]
  },
  {
   "cell_type": "markdown",
   "metadata": {
    "id": "kZvsg0u5xZR0"
   },
   "source": [
    "To understand how well PCA works and how much it helps us, let's do analysis over a real dataset: Breast Cancer Dataset."
   ]
  },
  {
   "cell_type": "code",
   "execution_count": 19,
   "metadata": {
    "id": "NEKWCmJxyMia"
   },
   "outputs": [],
   "source": [
    "from sklearn import decomposition, ensemble, datasets, linear_model\n",
    "import numpy as np\n",
    "import time\n",
    "from sklearn.preprocessing import StandardScaler\n",
    "from sklearn.model_selection import train_test_split"
   ]
  },
  {
   "cell_type": "code",
   "execution_count": 20,
   "metadata": {
    "id": "R2KHYkeYyMgK"
   },
   "outputs": [],
   "source": [
    "breast_cancer = datasets.load_breast_cancer()"
   ]
  },
  {
   "cell_type": "code",
   "execution_count": 21,
   "metadata": {
    "colab": {
     "base_uri": "https://localhost:8080/"
    },
    "id": "o90IjcjVyMeA",
    "outputId": "cc2d3e6b-ecc6-4f3e-ee74-4995fb469ee0"
   },
   "outputs": [
    {
     "data": {
      "text/plain": [
       "(569, 30)"
      ]
     },
     "execution_count": 21,
     "metadata": {},
     "output_type": "execute_result"
    }
   ],
   "source": [
    "X = breast_cancer.data\n",
    "X.shape"
   ]
  },
  {
   "cell_type": "code",
   "execution_count": 22,
   "metadata": {
    "id": "WL2_V-NiyMb4"
   },
   "outputs": [],
   "source": [
    "sc = StandardScaler()\n",
    "X_std = sc.fit_transform(X)"
   ]
  },
  {
   "cell_type": "code",
   "execution_count": 23,
   "metadata": {
    "id": "BlEMEYbeyMZU"
   },
   "outputs": [],
   "source": [
    "x_train, x_test, y_train, y_test = train_test_split(X_std, breast_cancer.target, random_state = 0)"
   ]
  },
  {
   "cell_type": "code",
   "execution_count": 24,
   "metadata": {
    "id": "tmmzC2pwyMQ0"
   },
   "outputs": [],
   "source": [
    "pca = decomposition.PCA(n_components = 15)\n",
    "x_train_pca = pca.fit_transform(x_train)\n",
    "x_test_pca = pca.transform(x_test)"
   ]
  },
  {
   "cell_type": "code",
   "execution_count": 25,
   "metadata": {
    "colab": {
     "base_uri": "https://localhost:8080/"
    },
    "id": "DFvfQG3xzRSd",
    "outputId": "bad4537e-255d-463b-f99f-6c5ddb5c03c2"
   },
   "outputs": [
    {
     "name": "stdout",
     "output_type": "stream",
     "text": [
      "Time Taken: 0.06800580024719238\n",
      "Score: 0.965034965034965\n"
     ]
    }
   ],
   "source": [
    "lr = linear_model.LogisticRegression()\n",
    "start = time.time()\n",
    "lr.fit(x_train, y_train)\n",
    "ending = time.time()\n",
    "print(\"Time Taken:\", ending - start)\n",
    "print(\"Score:\", lr.score(x_test, y_test))"
   ]
  },
  {
   "cell_type": "code",
   "execution_count": 26,
   "metadata": {
    "colab": {
     "base_uri": "https://localhost:8080/"
    },
    "id": "PmsC69V5zRQB",
    "outputId": "5e85d664-0222-4d0e-8a5b-197140aa3b24"
   },
   "outputs": [
    {
     "name": "stdout",
     "output_type": "stream",
     "text": [
      "Time Taken :  0.06800127029418945\n",
      "Score :  0.958041958041958\n"
     ]
    }
   ],
   "source": [
    "lr = linear_model.LogisticRegression()\n",
    "start = time.time()\n",
    "lr.fit(x_train_pca, y_train)\n",
    "ending = time.time()\n",
    "print(\"Time Taken : \", ending - start)\n",
    "print(\"Score : \", lr.score(x_test_pca, y_test))"
   ]
  },
  {
   "cell_type": "markdown",
   "metadata": {
    "id": "Ql4BZW0-xZPm"
   },
   "source": [
    "It is seen that with original data we achieve a score of 0.9650 in 0.026 seconds.\n",
    "\n",
    "When we use the data whose dimensionality is reduced, we achieve a score of 0.9580 in 0.011 seconds.\n",
    "\n",
    "So, with not much difference in the score, we save a lot of time in computation for datasets much larger than this."
   ]
  },
  {
   "cell_type": "markdown",
   "metadata": {
    "id": "qmetWKpHBzfK"
   },
   "source": [
    "##**Math Behind PCA**"
   ]
  },
  {
   "cell_type": "markdown",
   "metadata": {
    "id": "MA06eOX9xZNP"
   },
   "source": [
    "PCA requires the direction in which the data changes the maximum (variance is maximum).\n",
    "\n",
    "For this, we require the \n",
    "1. Covariance Matrix\n",
    "2. Eigen Values and Eigen Vectors: We use SVD (Single Value Decomposition)\n",
    "\n",
    "SVD is performed on the covariance matrix and we get a set of eigen vectors.\n",
    "These vectors will be unit vectors in original space.\n",
    "\n",
    "The **first eigenvector** will be the vector which explains the variance to the maximum (in best manner), the **second eigenvector** is the unit vector which explains the variance in the second best manner, and so on.\n",
    "\n",
    "Eigenvalues represent the value by which a particular direction contains the information.\n"
   ]
  },
  {
   "cell_type": "markdown",
   "metadata": {
    "id": "KUdWYJx2FDDE"
   },
   "source": [
    "##**Self implementation of PCA**"
   ]
  },
  {
   "cell_type": "markdown",
   "metadata": {
    "id": "BvDnZmQOxZKq"
   },
   "source": [
    "Let's write our own code for PCA. We will follow certain steps while writing it:\n",
    "1. Data pre-processing: Feature scaling / mean normalisation should always be performed\n",
    "2. Calculation of covariance matrix\n",
    "3. Find eigenvalues and eigenvectors corresponding to covariance matrix\n",
    "4. Select top k eigen vectors which would account for most of the variance in data\n",
    "5. Transform the original dataset with respect to these eigen vectors \n",
    "   \n"
   ]
  },
  {
   "cell_type": "code",
   "execution_count": 27,
   "metadata": {
    "id": "9ZmuL0YfFiqx"
   },
   "outputs": [],
   "source": [
    "import numpy as np\n",
    "np.random.seed(2343243)"
   ]
  },
  {
   "cell_type": "code",
   "execution_count": 54,
   "metadata": {
    "id": "W4xi98I3Fioh"
   },
   "outputs": [
    {
     "data": {
      "text/plain": [
       "array([[ 1.10843467, -0.78356327, -0.81736995],\n",
       "       [-0.44834555, -1.0610789 , -0.2072099 ],\n",
       "       [-0.72833733, -0.07979574, -1.61439639],\n",
       "       [-1.57474136,  1.49728085, -0.09624937],\n",
       "       [-2.00871388,  1.46577316,  0.54045893],\n",
       "       [ 2.13107449,  1.72774921, -1.37005841],\n",
       "       [-0.17691185, -0.43484172,  1.4193188 ],\n",
       "       [ 0.82360627, -0.94013674,  0.53372157],\n",
       "       [ 0.19343327, -1.36508766, -0.31403223],\n",
       "       [-0.95390791, -0.36506936,  1.60092234],\n",
       "       [-0.9530241 ,  0.66857755,  1.35588115],\n",
       "       [-0.17168083,  1.73703942, -1.31575756],\n",
       "       [-0.33944396,  0.41940313, -0.86522659],\n",
       "       [-0.5564867 , -1.63570849, -0.6921115 ],\n",
       "       [-0.29748052,  2.60791675, -0.28926645],\n",
       "       [-0.78218718,  0.76661592, -0.18375176],\n",
       "       [-0.23281462,  0.72807497,  0.38214275],\n",
       "       [-1.3114994 ,  1.07192096, -0.48334392],\n",
       "       [ 1.24943432,  0.63278444, -0.34035846],\n",
       "       [-0.40923374,  0.26708236, -0.28946818]])"
      ]
     },
     "execution_count": 54,
     "metadata": {},
     "output_type": "execute_result"
    }
   ],
   "source": [
    "mean_vec1 = np.array([0,0,0])\n",
    "cov_mat1 = np.array([[1,0,0],[0,1,0],[0,0,1]])\n",
    "class1 = np.random.multivariate_normal(mean_vec1, cov_mat1, 20)  #Class 1\n",
    "class1"
   ]
  },
  {
   "cell_type": "code",
   "execution_count": 57,
   "metadata": {
    "id": "xsR2jvMeFimU"
   },
   "outputs": [
    {
     "data": {
      "text/plain": [
       "array([[-0.04514585,  0.16690483,  0.81755997],\n",
       "       [ 0.41721368,  1.07111626,  2.74021481],\n",
       "       [ 1.30822288,  0.33017189,  0.9633506 ],\n",
       "       [ 1.43802106,  0.96961705,  1.90268396],\n",
       "       [ 1.08763659,  1.90531426, -0.57187574],\n",
       "       [-0.23830093,  1.17572726,  0.77259119],\n",
       "       [ 3.12311618, -1.20550575,  0.7598276 ],\n",
       "       [ 1.306199  ,  0.23229036, -0.09680751],\n",
       "       [-0.22809139, -0.11061185,  0.37013735],\n",
       "       [ 0.49505785, -0.05615648,  1.19209755],\n",
       "       [ 1.08413977,  1.54810404,  1.93163184],\n",
       "       [ 1.84855553,  0.8368439 ,  1.04286697],\n",
       "       [-0.40235596,  1.43224266,  1.7625388 ],\n",
       "       [-0.60881286,  0.33839387,  1.13740633],\n",
       "       [ 1.31038247,  1.6810494 ,  2.55034035],\n",
       "       [ 1.5608998 ,  0.64140463,  0.25823883],\n",
       "       [ 1.92044621,  0.66489063,  1.21949881],\n",
       "       [ 0.09053281,  2.73510409, -0.41598224],\n",
       "       [ 0.88771299,  1.50699829,  0.64569125],\n",
       "       [ 1.2202524 ,  0.79469824,  1.21586998]])"
      ]
     },
     "execution_count": 57,
     "metadata": {},
     "output_type": "execute_result"
    }
   ],
   "source": [
    "mean_vec2 = np.array([1,1,1])\n",
    "cov_mat2 = np.array([[1,0,0],[0,1,0],[0,0,1]])\n",
    "class2 = np.random.multivariate_normal(mean_vec2, cov_mat2, 20)  #Class 2\n",
    "class2"
   ]
  },
  {
   "cell_type": "code",
   "execution_count": 30,
   "metadata": {
    "colab": {
     "base_uri": "https://localhost:8080/",
     "height": 466
    },
    "id": "1e6OkWTRFij0",
    "outputId": "23492662-084e-45d8-da60-1404a3ef7451"
   },
   "outputs": [
    {
     "data": {
      "image/png": "[encoded data removed]",
      "text/plain": [
       "<Figure size 576x576 with 1 Axes>"
      ]
     },
     "metadata": {
      "needs_background": "light"
     },
     "output_type": "display_data"
    }
   ],
   "source": [
    "from matplotlib import pyplot as plt\n",
    "from mpl_toolkits.mplot3d import Axes3D, proj3d\n",
    "\n",
    "fig = plt.figure(figsize=(8,8))\n",
    "ax = fig.add_subplot(111,projection='3d')\n",
    "ax.plot(class1[:, 0], class1[:, 1], class1[:, 2], 'o')\n",
    "ax.plot(class2[:, 0], class2[:, 1], class2[:, 2], '^')\n",
    "plt.show()"
   ]
  },
  {
   "cell_type": "code",
   "execution_count": 31,
   "metadata": {
    "colab": {
     "base_uri": "https://localhost:8080/"
    },
    "id": "cp6CBYQLFiht",
    "outputId": "0077e594-f25c-48b6-fed7-c6a9c78297d5"
   },
   "outputs": [
    {
     "data": {
      "text/plain": [
       "(40, 3)"
      ]
     },
     "execution_count": 31,
     "metadata": {},
     "output_type": "execute_result"
    }
   ],
   "source": [
    "all_data = np.concatenate((class1, class2))\n",
    "all_data.shape"
   ]
  },
  {
   "cell_type": "code",
   "execution_count": 32,
   "metadata": {
    "colab": {
     "base_uri": "https://localhost:8080/"
    },
    "id": "hPlZnM8iFifY",
    "outputId": "240c969e-576e-4fa0-fe9c-5e39c4a5220a"
   },
   "outputs": [
    {
     "data": {
      "text/plain": [
       "array([0.4560612 , 0.47118588, 0.64109922])"
      ]
     },
     "execution_count": 32,
     "metadata": {},
     "output_type": "execute_result"
    }
   ],
   "source": [
    "all_data.mean(axis = 0)"
   ]
  },
  {
   "cell_type": "code",
   "execution_count": 33,
   "metadata": {
    "id": "djYbLzqTFicz"
   },
   "outputs": [],
   "source": [
    "all_data = all_data.T"
   ]
  },
  {
   "cell_type": "code",
   "execution_count": 34,
   "metadata": {
    "colab": {
     "base_uri": "https://localhost:8080/"
    },
    "id": "JkxGkKpqFiap",
    "outputId": "0f7d1d5a-a178-4ef3-a8c5-28f59042af92"
   },
   "outputs": [
    {
     "data": {
      "text/plain": [
       "array([[1.48156581, 0.43272336, 0.00832651],\n",
       "       [0.43272336, 1.06868385, 0.09154185],\n",
       "       [0.00832651, 0.09154185, 0.77659054]])"
      ]
     },
     "execution_count": 34,
     "metadata": {},
     "output_type": "execute_result"
    }
   ],
   "source": [
    "cov_mat = np.cov(all_data)    # Calculation of co-variance matrix\n",
    "cov_mat       "
   ]
  },
  {
   "cell_type": "code",
   "execution_count": 35,
   "metadata": {
    "colab": {
     "base_uri": "https://localhost:8080/"
    },
    "id": "AeJovZuuFiYZ",
    "outputId": "51f84fe1-c668-4dfc-fd4d-fdedfd69c171"
   },
   "outputs": [
    {
     "data": {
      "text/plain": [
       "(array([1.75777104, 0.8582392 , 0.71082995]),\n",
       " array([[-0.84204244, -0.43906668,  0.31334482],\n",
       "        [-0.5363712 ,  0.61995098, -0.57268378],\n",
       "        [-0.05718794,  0.65029319,  0.75752776]]),\n",
       " array([-0.84204244, -0.5363712 , -0.05718794]))"
      ]
     },
     "execution_count": 35,
     "metadata": {},
     "output_type": "execute_result"
    }
   ],
   "source": [
    "eig_val, eig_vec = np.linalg.eig(cov_mat)      # Calculation of eigen values and eigen vectors \n",
    "eig_val, eig_vec, eig_vec[:,0]                 # i-th column from eig_vec contains eigen vector for i-th element in eig_val"
   ]
  },
  {
   "cell_type": "code",
   "execution_count": 36,
   "metadata": {
    "colab": {
     "base_uri": "https://localhost:8080/"
    },
    "id": "CdM4E00RFiWA",
    "outputId": "bd43b1eb-5efe-4707-bcec-6ec41d8229ba"
   },
   "outputs": [
    {
     "data": {
      "text/plain": [
       "array([[-0.84204244, -0.5363712 , -0.05718794],\n",
       "       [-0.43906668,  0.61995098,  0.65029319]])"
      ]
     },
     "execution_count": 36,
     "metadata": {},
     "output_type": "execute_result"
    }
   ],
   "source": [
    "eig_val_vec_pairs = []\n",
    "for i in range(len(eig_val)):\n",
    "    eig_vector = eig_vec[:,i]\n",
    "    eig_val_vec_pairs.append((eig_val[i], eig_vector))   \n",
    "eig_val_vec_pairs.sort(reverse = True)                   ## selecting top-2 most important eigen values with most explained variance                       \n",
    "matrix_eig = np.array([eig_val_vec_pairs[0][1],eig_val_vec_pairs[1][1]]) \n",
    "matrix_eig"
   ]
  },
  {
   "cell_type": "code",
   "execution_count": 37,
   "metadata": {
    "colab": {
     "base_uri": "https://localhost:8080/"
    },
    "id": "SOmrreaCFiTq",
    "outputId": "9ac5142e-88be-4ca2-b2c5-f9b9c3807bfc"
   },
   "outputs": [
    {
     "data": {
      "text/plain": [
       "[(1.7577710419235262, array([-0.84204244, -0.5363712 , -0.05718794])),\n",
       " (0.8582391965561241, array([-0.43906668,  0.61995098,  0.65029319])),\n",
       " (0.7108299538825635, array([ 0.31334482, -0.57268378,  0.75752776]))]"
      ]
     },
     "execution_count": 37,
     "metadata": {},
     "output_type": "execute_result"
    }
   ],
   "source": [
    "eig_val_vec_pairs"
   ]
  },
  {
   "cell_type": "code",
   "execution_count": 38,
   "metadata": {
    "colab": {
     "base_uri": "https://localhost:8080/"
    },
    "id": "53v9kK5HFiRf",
    "outputId": "b4ac18ac-57ae-4e95-c676-3439022f160d"
   },
   "outputs": [
    {
     "data": {
      "text/plain": [
       "(40, 2)"
      ]
     },
     "execution_count": 38,
     "metadata": {},
     "output_type": "execute_result"
    }
   ],
   "source": [
    "transformed = matrix_eig.dot(all_data)    #Transforming data into 2D \n",
    "transformed = transformed.T\n",
    "transformed.shape"
   ]
  },
  {
   "cell_type": "code",
   "execution_count": 39,
   "metadata": {
    "colab": {
     "base_uri": "https://localhost:8080/",
     "height": 265
    },
    "id": "552bWkxYFiPX",
    "outputId": "85ba52b6-cc4d-435b-9646-9465e393ae78"
   },
   "outputs": [
    {
     "data": {
      "image/png": "[encoded data removed]",
      "text/plain": [
       "<Figure size 432x288 with 1 Axes>"
      ]
     },
     "metadata": {
      "needs_background": "light"
     },
     "output_type": "display_data"
    }
   ],
   "source": [
    "plt.plot(transformed[0:20, 0], transformed[0:20, 1], 'o')\n",
    "plt.plot(transformed[20:40, 0], transformed[20:40, 1], '^')\n",
    "\n",
    "plt.show()"
   ]
  },
  {
   "cell_type": "markdown",
   "metadata": {
    "id": "5zx-rPqVxZIK"
   },
   "source": [
    "**Let's see how the inbuilt PCA performs on the same data**"
   ]
  },
  {
   "cell_type": "code",
   "execution_count": 40,
   "metadata": {
    "id": "u7yH80JtGAVH"
   },
   "outputs": [],
   "source": [
    "from sklearn.decomposition import PCA"
   ]
  },
  {
   "cell_type": "code",
   "execution_count": 41,
   "metadata": {
    "id": "TI7L0MrbGBQ7"
   },
   "outputs": [],
   "source": [
    "pca = PCA(n_components =2)\n",
    "skl_transformed = pca.fit_transform(all_data.T)"
   ]
  },
  {
   "cell_type": "code",
   "execution_count": 42,
   "metadata": {
    "colab": {
     "base_uri": "https://localhost:8080/",
     "height": 265
    },
    "id": "N3k09pEmGCEM",
    "outputId": "77463f24-11f1-47fd-d831-690a44f14ac9"
   },
   "outputs": [
    {
     "data": {
      "image/png": "[encoded data removed]",
      "text/plain": [
       "<Figure size 432x288 with 1 Axes>"
      ]
     },
     "metadata": {
      "needs_background": "light"
     },
     "output_type": "display_data"
    }
   ],
   "source": [
    "skl_transformed[:, 0] *= -1\n",
    "plt.plot(skl_transformed[0:20, 0], skl_transformed[0:20, 1], 'o')\n",
    "plt.plot(skl_transformed[20:40, 0], skl_transformed[20:40, 1], '^')\n",
    "\n",
    "plt.show()"
   ]
  },
  {
   "cell_type": "markdown",
   "metadata": {
    "id": "RHB2Mf5NxZFr"
   },
   "source": [
    "From the graphs, it is clear that we get a similar result. We may also look into the eigenvalues and eigenvectors using the following code."
   ]
  },
  {
   "cell_type": "code",
   "execution_count": 43,
   "metadata": {
    "colab": {
     "base_uri": "https://localhost:8080/"
    },
    "id": "EkMMVXUgGqjK",
    "outputId": "b855f9e7-7807-493a-fe8b-0cd75bead6fc"
   },
   "outputs": [
    {
     "data": {
      "text/plain": [
       "array([[ 0.84204244,  0.5363712 ,  0.05718794],\n",
       "       [-0.43906668,  0.61995098,  0.65029319]])"
      ]
     },
     "execution_count": 43,
     "metadata": {},
     "output_type": "execute_result"
    }
   ],
   "source": [
    "pca.components_    #Inbuilt PCA"
   ]
  },
  {
   "cell_type": "code",
   "execution_count": 44,
   "metadata": {
    "colab": {
     "base_uri": "https://localhost:8080/"
    },
    "id": "XRRYYETdGr-0",
    "outputId": "9bcf6567-3be9-45ee-e8e7-15e2185af8ee"
   },
   "outputs": [
    {
     "data": {
      "text/plain": [
       "array([1.75777104, 0.8582392 ])"
      ]
     },
     "execution_count": 44,
     "metadata": {},
     "output_type": "execute_result"
    }
   ],
   "source": [
    "pca.explained_variance_     #Inbuilt PCA"
   ]
  },
  {
   "cell_type": "code",
   "execution_count": 45,
   "metadata": {
    "colab": {
     "base_uri": "https://localhost:8080/"
    },
    "id": "cyT6oeSJG0Sx",
    "outputId": "021e5c5b-43ac-46fc-da63-6b7292d017f7"
   },
   "outputs": [
    {
     "data": {
      "text/plain": [
       "[(1.7577710419235262, array([-0.84204244, -0.5363712 , -0.05718794])),\n",
       " (0.8582391965561241, array([-0.43906668,  0.61995098,  0.65029319])),\n",
       " (0.7108299538825635, array([ 0.31334482, -0.57268378,  0.75752776]))]"
      ]
     },
     "execution_count": 45,
     "metadata": {},
     "output_type": "execute_result"
    }
   ],
   "source": [
    "eig_val_vec_pairs       #Our implementation"
   ]
  },
  {
   "cell_type": "markdown",
   "metadata": {
    "id": "dLXF9TUwHA25"
   },
   "source": [
    "It is seen that we get the same results. Although in the above example, the direction of first eigen vector is taken negative by the inbuilt PCA."
   ]
  },
  {
   "cell_type": "markdown",
   "metadata": {
    "id": "myN8kxo-IR6W"
   },
   "source": [
    "##**How to select K (n_components)**\n",
    "\n",
    "\n"
   ]
  },
  {
   "cell_type": "markdown",
   "metadata": {
    "id": "a6q2h2VOIf7H"
   },
   "source": [
    "Value of k is directly proportional to variance explained by data, thus selecting an optimal value of k is very imporatant. Our primary objective should be to select a k small enough to explain maximum variance in the transformed data and then transforming the data into k dimensions.\n",
    "\n",
    "The concept to find the optimal k is pretty straightforward.\n",
    "\n",
    "First, we apply PCA without any value of n_components. This means that after applying PCA, we are left with the same number of components as before. But now, we have the explained variances of all the components.\n",
    "\n",
    "The sum of these varirances is the total variance of the data.\n",
    "\n",
    "\n",
    "Suppose we decide to maintain 3 features after applying PCA. The sum of variances of these 3 features divided by the total variance will give us the percentage of variance we maintain.\n",
    "\n",
    "Hence, using the explained variances, we may decide the percentage of variance we want to retain.\n",
    "\n",
    "Let's see the implementation of this in the code we wrote for the Breast Cancer Dataset."
   ]
  },
  {
   "cell_type": "code",
   "execution_count": 46,
   "metadata": {
    "id": "dJ-sMB5cJpMw"
   },
   "outputs": [],
   "source": [
    "from sklearn import decomposition, ensemble, datasets, linear_model\n",
    "import numpy as np\n",
    "import time\n",
    "from sklearn.preprocessing import StandardScaler\n",
    "from sklearn.model_selection import train_test_split"
   ]
  },
  {
   "cell_type": "code",
   "execution_count": 47,
   "metadata": {
    "id": "vzaHjJBmJpKT"
   },
   "outputs": [],
   "source": [
    "breast_cancer = datasets.load_breast_cancer()"
   ]
  },
  {
   "cell_type": "code",
   "execution_count": 48,
   "metadata": {
    "colab": {
     "base_uri": "https://localhost:8080/"
    },
    "id": "MISuyp4MJpAn",
    "outputId": "8a657b73-0d6c-4491-9685-825eea8c86f8"
   },
   "outputs": [
    {
     "data": {
      "text/plain": [
       "(569, 30)"
      ]
     },
     "execution_count": 48,
     "metadata": {},
     "output_type": "execute_result"
    }
   ],
   "source": [
    "X = breast_cancer.data\n",
    "X.shape"
   ]
  },
  {
   "cell_type": "code",
   "execution_count": 49,
   "metadata": {
    "id": "9fLwIRhNJo-d"
   },
   "outputs": [],
   "source": [
    "sc = StandardScaler()\n",
    "X_std = sc.fit_transform(X)"
   ]
  },
  {
   "cell_type": "code",
   "execution_count": 50,
   "metadata": {
    "id": "dNXnxsuqJo8V"
   },
   "outputs": [],
   "source": [
    "x_train, x_test, y_train, y_test = train_test_split(X_std, breast_cancer.target, random_state = 0)"
   ]
  },
  {
   "cell_type": "code",
   "execution_count": 51,
   "metadata": {
    "id": "a06HHgYTJo58"
   },
   "outputs": [],
   "source": [
    "pca = decomposition.PCA()\n",
    "x_train_pca = pca.fit_transform(x_train)\n",
    "x_test_pca = pca.transform(x_test)"
   ]
  },
  {
   "cell_type": "code",
   "execution_count": 52,
   "metadata": {
    "colab": {
     "base_uri": "https://localhost:8080/"
    },
    "id": "xV576LvqJo4F",
    "outputId": "8c60affd-abe8-4ef0-f1d1-a47df9243b14"
   },
   "outputs": [
    {
     "data": {
      "text/plain": [
       "17"
      ]
     },
     "execution_count": 52,
     "metadata": {},
     "output_type": "execute_result"
    }
   ],
   "source": [
    "total = sum(pca.explained_variance_)\n",
    "k = 0\n",
    "current_variance = 0\n",
    "while current_variance/total < 0.99:\n",
    "  current_variance += pca.explained_variance_[k]\n",
    "  k = k + 1\n",
    "\n",
    "k"
   ]
  },
  {
   "cell_type": "markdown",
   "metadata": {
    "id": "iCFGpiZFKRN1"
   },
   "source": [
    "This means that to maintain 99% variance, we need just 17 components."
   ]
  },
  {
   "cell_type": "code",
   "execution_count": 53,
   "metadata": {
    "colab": {
     "base_uri": "https://localhost:8080/"
    },
    "id": "AmRMs9VKKb5d",
    "outputId": "ded55794-2608-41d3-d71c-3c4610af7e2a"
   },
   "outputs": [
    {
     "data": {
      "text/plain": [
       "10"
      ]
     },
     "execution_count": 53,
     "metadata": {},
     "output_type": "execute_result"
    }
   ],
   "source": [
    "total = sum(pca.explained_variance_)\n",
    "k = 0\n",
    "current_variance = 0\n",
    "while current_variance/total < 0.95:\n",
    "  current_variance += pca.explained_variance_[k]\n",
    "  k = k + 1\n",
    "\n",
    "k"
   ]
  },
  {
   "cell_type": "markdown",
   "metadata": {
    "id": "Zwpozf5OKiIh"
   },
   "source": [
    "Similariy, to maintain 95% variance, we need just 10 components."
   ]
  },
  {
   "cell_type": "markdown",
   "metadata": {
    "id": "_cRbLKkFKnsY"
   },
   "source": [
    "Now, you need not hardcode the amount of components you need to keep. All you need to do is decide the amount of variance that you want to maintain and find out the value of k accordingly."
   ]
  }
 ],
 "metadata": {
  "colab": {
   "collapsed_sections": [],
   "name": "Copy of PCA-1. ipynb",
   "provenance": []
  },
  "kernelspec": {
   "display_name": "Python 3 (ipykernel)",
   "language": "python",
   "name": "python3"
  },
  "language_info": {
   "codemirror_mode": {
    "name": "ipython",
    "version": 3
   },
   "file_extension": ".py",
   "mimetype": "text/x-python",
   "name": "python",
   "nbconvert_exporter": "python",
   "pygments_lexer": "ipython3",
   "version": "3.9.12"
  }
 },
 "nbformat": 4,
 "nbformat_minor": 1
}
