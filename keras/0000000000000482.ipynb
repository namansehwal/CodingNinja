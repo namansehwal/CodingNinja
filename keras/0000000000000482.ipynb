{
 "cells": [
  {
   "cell_type": "markdown",
   "metadata": {
    "id": "lF-T-YCPBpaN"
   },
   "source": [
    "#**Keras**"
   ]
  },
  {
   "cell_type": "markdown",
   "metadata": {
    "id": "Fs9RlcetCZqW"
   },
   "source": [
    "**What will you learn?**\n",
    "1. **Principles of Keras**\n",
    "2. **Why to use Keras**\n",
    "3. **Keras vs TensorFlow**\n",
    "4. **Flow of Code**\n",
    "5. **Types of Model in Keras** : Sequential, Functional API\n",
    "6. **Implementation** : Breast Cancer Dataset"
   ]
  },
  {
   "cell_type": "markdown",
   "metadata": {
    "id": "rONhqMDoBpfI"
   },
   "source": [
    "Keras is a powerful and easy-to-use free open source Python library for developing and evaluating deep learning models.\n",
    "\n",
    "It wraps the efficient numerical computation libraries Theano and TensorFlow and allows you to define and train neural network models in just a few lines of code."
   ]
  },
  {
   "cell_type": "markdown",
   "metadata": {
    "id": "FY0HrW03Rb2g"
   },
   "source": [
    "##**Principles of Keras**"
   ]
  },
  {
   "cell_type": "markdown",
   "metadata": {
    "id": "U6jQksB2RYyN"
   },
   "source": [
    "Keras was created to be user friendly, modular, easy to extend, and to work with Python. The API was “designed for human beings, not machines,” and “follows best practices for reducing cognitive load.”\n",
    "\n",
    "Neural layers, cost functions, optimizers, initialization schemes, activation functions, and regularization schemes are all standalone modules that you can combine to create new models. New modules are simple to add, as new classes and functions. Models are defined in Python code, not separate model configuration files."
   ]
  },
  {
   "cell_type": "markdown",
   "metadata": {
    "id": "DDvyYL6eRjUd"
   },
   "source": [
    "##**Why do we use Keras?**"
   ]
  },
  {
   "cell_type": "markdown",
   "metadata": {
    "id": "WY-YHqQDRl9b"
   },
   "source": [
    "The biggest reasons to use Keras stem from its guiding principles, primarily the one about being user friendly. Beyond ease of learning and ease of model building, Keras offers the advantages of broad adoption, support for a wide range of production deployment options, integration with at least five back-end engines (TensorFlow, CNTK, Theano, MXNet, and PlaidML), and strong support for multiple GPUs and distributed training. Plus, Keras is backed by Google, Microsoft, Amazon, Apple, Nvidia, Uber, and others."
   ]
  },
  {
   "cell_type": "markdown",
   "metadata": {
    "id": "Xz1yurAZRxjo"
   },
   "source": [
    "##**Keras vs Tensorflow**"
   ]
  },
  {
   "cell_type": "markdown",
   "metadata": {
    "id": "oUcDJQgNR70v"
   },
   "source": [
    "Parameters | Keras | TensorFlow \n",
    ":---|:---|:---\n",
    "Type|High-Level API Wrapper|Low-Level API\n",
    "Complexity|Easy to use if you Python language|You need to learn the syntax of using some of Tensorflow function\n",
    "Purpose|Rapid deployment for making model with standard layers|Allows you to make an arbitrary computational graph or model layers\n",
    "Tools|Uses other API debug tool such as TFDBG|You can use Tensorboard visualization tools\n",
    "Community|Large active communities|Large active communities and widely shared resources"
   ]
  },
  {
   "cell_type": "markdown",
   "metadata": {
    "id": "bJ1Ed7p8SeOo"
   },
   "source": [
    "##**Flow of Code**"
   ]
  },
  {
   "cell_type": "markdown",
   "metadata": {
    "id": "tIs7Y_p-SeMI"
   },
   "source": [
    "1. Creating a model.\n",
    "2. Defining Architecture.\n",
    "3. Compile the model.\n",
    "4. Fit the model.\n",
    "5. Evaluaute the model."
   ]
  },
  {
   "cell_type": "markdown",
   "metadata": {
    "id": "6YkbXyjZSeJj"
   },
   "source": [
    "##**Types of Keras Models**"
   ]
  },
  {
   "cell_type": "markdown",
   "metadata": {
    "id": "LExm2NJFSeHJ"
   },
   "source": [
    "There are three ways to create Keras models:\n",
    "\n",
    "**The Sequential model**, which is very straightforward (a simple list of layers), but is limited to single-input, single-output stacks of layers (as the name gives away).\n",
    "\n",
    "**The Functional API**, which is an easy-to-use, fully-featured API that supports arbitrary model architectures. For most people and most use cases, this is what you should be using. This is the Keras \"industry strength\" model.\n",
    "\n",
    "**Model subclassing**, where you implement everything from scratch on your own. Use this if you have complex, out-of-the-box research use cases."
   ]
  },
  {
   "cell_type": "markdown",
   "metadata": {
    "id": "ZloCIbfQSeDl"
   },
   "source": [
    "##**Lets use Keras**"
   ]
  },
  {
   "cell_type": "markdown",
   "metadata": {
    "id": "2FtC0694Sd2R"
   },
   "source": [
    "**Step 1** : Load Data"
   ]
  },
  {
   "cell_type": "code",
   "execution_count": null,
   "metadata": {
    "id": "4ISDQJUNVJFV"
   },
   "outputs": [],
   "source": [
    "from sklearn import datasets\n",
    "cancer = datasets.load_breast_cancer()\n",
    "from sklearn.model_selection import train_test_split\n",
    "\n",
    "x_train, x_test, y_train, y_test = train_test_split(cancer.data, cancer.target, test_size = 0.2, random_state = 0)\n",
    "\n",
    "from sklearn.preprocessing import StandardScaler\n",
    "\n",
    "sc = StandardScaler()\n",
    "x_train = sc.fit_transform(x_train)\n",
    "x_test = sc.transform(x_test)"
   ]
  },
  {
   "cell_type": "markdown",
   "metadata": {
    "id": "HixGaogXVdIp"
   },
   "source": [
    "**Step 2** : Define Keras Model\n",
    "\n",
    "Currently we will use Dense layers. While defining the model, we need to know the number of units we want to keep in each layer, their activation function, and input dimensions for the first layer."
   ]
  },
  {
   "cell_type": "code",
   "execution_count": null,
   "metadata": {
    "id": "ZS05ArJZVcRz"
   },
   "outputs": [],
   "source": [
    "from keras.models import Sequential\n",
    "from keras.layers import Dense"
   ]
  },
  {
   "cell_type": "code",
   "execution_count": null,
   "metadata": {
    "id": "nlihJJmBVjDl"
   },
   "outputs": [],
   "source": [
    "# Creating a Model\n",
    "model = Sequential()"
   ]
  },
  {
   "cell_type": "code",
   "execution_count": null,
   "metadata": {
    "id": "VddLs3tzVi7_"
   },
   "outputs": [],
   "source": [
    "layer1 = Dense(units=32, activation = 'relu', input_dim = 30)\n",
    "model.add(layer1)\n",
    "model.add(Dense(units=16, activation = 'relu'))\n",
    "model.add(Dense(units=1, activation = 'sigmoid'))"
   ]
  },
  {
   "cell_type": "markdown",
   "metadata": {
    "id": "ZPAHlTOzV33U"
   },
   "source": [
    "**Step 3** : Compile the Model\n",
    "\n",
    "Here, we define the optimizer we want to use, along with the loss funtion and metrics."
   ]
  },
  {
   "cell_type": "code",
   "execution_count": null,
   "metadata": {
    "id": "UT4AjOciVi5x"
   },
   "outputs": [],
   "source": [
    "model.compile(optimizer='adam', loss='binary_crossentropy', metrics=['accuracy'])"
   ]
  },
  {
   "cell_type": "markdown",
   "metadata": {
    "id": "WgEs5Z-NWJe2"
   },
   "source": [
    "**Step 4** : Fit the Model"
   ]
  },
  {
   "cell_type": "code",
   "execution_count": null,
   "metadata": {
    "colab": {
     "base_uri": "https://localhost:8080/"
    },
    "executionInfo": {
     "elapsed": 3837,
     "status": "ok",
     "timestamp": 1611608423774,
     "user": {
      "displayName": "Gaurav Bhatia",
      "photoUrl": "",
      "userId": "05517600112429710610"
     },
     "user_tz": -330
    },
    "id": "oenTrhh3WGUA",
    "outputId": "121b46f0-2491-430e-d708-b6ff4acfd704"
   },
   "outputs": [
    {
     "name": "stdout",
     "output_type": "stream",
     "text": [
      "Epoch 1/20\n",
      "10/10 [==============================] - 1s 52ms/step - loss: 0.6454 - accuracy: 0.6503 - val_loss: 0.5250 - val_accuracy: 0.8509\n",
      "Epoch 2/20\n",
      "10/10 [==============================] - 0s 5ms/step - loss: 0.5133 - accuracy: 0.8480 - val_loss: 0.4218 - val_accuracy: 0.9035\n",
      "Epoch 3/20\n",
      "10/10 [==============================] - 0s 6ms/step - loss: 0.4052 - accuracy: 0.9337 - val_loss: 0.3519 - val_accuracy: 0.9035\n",
      "Epoch 4/20\n",
      "10/10 [==============================] - 0s 6ms/step - loss: 0.3410 - accuracy: 0.9419 - val_loss: 0.2990 - val_accuracy: 0.9123\n",
      "Epoch 5/20\n",
      "10/10 [==============================] - 0s 19ms/step - loss: 0.2850 - accuracy: 0.9436 - val_loss: 0.2575 - val_accuracy: 0.9211\n",
      "Epoch 6/20\n",
      "10/10 [==============================] - 0s 6ms/step - loss: 0.2423 - accuracy: 0.9511 - val_loss: 0.2246 - val_accuracy: 0.9211\n",
      "Epoch 7/20\n",
      "10/10 [==============================] - 0s 6ms/step - loss: 0.2027 - accuracy: 0.9516 - val_loss: 0.1994 - val_accuracy: 0.9211\n",
      "Epoch 8/20\n",
      "10/10 [==============================] - 0s 6ms/step - loss: 0.1752 - accuracy: 0.9595 - val_loss: 0.1787 - val_accuracy: 0.9211\n",
      "Epoch 9/20\n",
      "10/10 [==============================] - 0s 7ms/step - loss: 0.1683 - accuracy: 0.9607 - val_loss: 0.1619 - val_accuracy: 0.9211\n",
      "Epoch 10/20\n",
      "10/10 [==============================] - 0s 6ms/step - loss: 0.1493 - accuracy: 0.9568 - val_loss: 0.1483 - val_accuracy: 0.9386\n",
      "Epoch 11/20\n",
      "10/10 [==============================] - 0s 7ms/step - loss: 0.1370 - accuracy: 0.9592 - val_loss: 0.1371 - val_accuracy: 0.9386\n",
      "Epoch 12/20\n",
      "10/10 [==============================] - 0s 7ms/step - loss: 0.1027 - accuracy: 0.9753 - val_loss: 0.1286 - val_accuracy: 0.9474\n",
      "Epoch 13/20\n",
      "10/10 [==============================] - 0s 7ms/step - loss: 0.1065 - accuracy: 0.9649 - val_loss: 0.1204 - val_accuracy: 0.9561\n",
      "Epoch 14/20\n",
      "10/10 [==============================] - 0s 6ms/step - loss: 0.0898 - accuracy: 0.9752 - val_loss: 0.1129 - val_accuracy: 0.9561\n",
      "Epoch 15/20\n",
      "10/10 [==============================] - 0s 6ms/step - loss: 0.0945 - accuracy: 0.9784 - val_loss: 0.1062 - val_accuracy: 0.9561\n",
      "Epoch 16/20\n",
      "10/10 [==============================] - 0s 6ms/step - loss: 0.0816 - accuracy: 0.9814 - val_loss: 0.1015 - val_accuracy: 0.9561\n",
      "Epoch 17/20\n",
      "10/10 [==============================] - 0s 6ms/step - loss: 0.0920 - accuracy: 0.9787 - val_loss: 0.0973 - val_accuracy: 0.9561\n",
      "Epoch 18/20\n",
      "10/10 [==============================] - 0s 7ms/step - loss: 0.0693 - accuracy: 0.9826 - val_loss: 0.0920 - val_accuracy: 0.9737\n",
      "Epoch 19/20\n",
      "10/10 [==============================] - 0s 6ms/step - loss: 0.0708 - accuracy: 0.9835 - val_loss: 0.0881 - val_accuracy: 0.9737\n",
      "Epoch 20/20\n",
      "10/10 [==============================] - 0s 6ms/step - loss: 0.0735 - accuracy: 0.9804 - val_loss: 0.0861 - val_accuracy: 0.9737\n"
     ]
    },
    {
     "data": {
      "text/plain": [
       "<tensorflow.python.keras.callbacks.History at 0x7f942827c550>"
      ]
     },
     "execution_count": 6,
     "metadata": {
      "tags": []
     },
     "output_type": "execute_result"
    }
   ],
   "source": [
    "model.fit(x_train, y_train, epochs=20, batch_size = 50, validation_data=(x_test, y_test))"
   ]
  },
  {
   "cell_type": "markdown",
   "metadata": {
    "id": "RYHUnYPHWWQx"
   },
   "source": [
    "**Step 5** : Evaluating the Model"
   ]
  },
  {
   "cell_type": "code",
   "execution_count": null,
   "metadata": {
    "colab": {
     "base_uri": "https://localhost:8080/"
    },
    "executionInfo": {
     "elapsed": 1390,
     "status": "ok",
     "timestamp": 1611608472029,
     "user": {
      "displayName": "Gaurav Bhatia",
      "photoUrl": "",
      "userId": "05517600112429710610"
     },
     "user_tz": -330
    },
    "id": "h-yonZl0WO4n",
    "outputId": "e9ee17db-a8d6-4f53-e0dd-7272b433ce31"
   },
   "outputs": [
    {
     "name": "stdout",
     "output_type": "stream",
     "text": [
      "4/4 [==============================] - 0s 2ms/step - loss: 0.0861 - accuracy: 0.9737\n"
     ]
    },
    {
     "data": {
      "text/plain": [
       "[0.08612696081399918, 0.9736841917037964]"
      ]
     },
     "execution_count": 7,
     "metadata": {
      "tags": []
     },
     "output_type": "execute_result"
    }
   ],
   "source": [
    "predictions = model.predict(x_test)\n",
    "score = model.evaluate(x_test, y_test)\n",
    "score"
   ]
  },
  {
   "cell_type": "markdown",
   "metadata": {
    "id": "den2MI9SWups"
   },
   "source": [
    "##**Advantages of Keras**\n"
   ]
  },
  {
   "cell_type": "markdown",
   "metadata": {
    "id": "2SsI-JbDWuaO"
   },
   "source": [
    "**Fast Deployment and Easy to understand** : Keras is very quick to make a network model. If you want to make a simple network model with a few lines, Keras can help you with that.\n",
    "\n",
    "**Large Community Support** : There are lots of AI communities that use Keras for their Deep Learning framework. Many of them publish their codes as well tutorial to the general public.\n",
    "\n",
    "**Have Multiple Backends** : You can choose Tensorflow, CNTK, and Theano as your backend with Keras. You can choose a different backend for different projects depending on your needs. Each backend has its own unique advantage.\n",
    "\n",
    "**Cross-Platform and Easy Model Deployment** : With a variety of supported devices and platforms, you can deploy Keras on any device like\n",
    "\n",
    "1. iOS with CoreML\n",
    "2. Android with Tensorflow Android,\n",
    "3. Web browser with .js support\n",
    "4. Cloud engine\n",
    "5. Raspberry Pi\n",
    "\n",
    "**Multi GPUs Support** : You can train Keras with on a single GPU or use multiple GPUs at once. Because Keras has a built-in support for data parallelism so it can process large volumes of data and speed up the time needed to train it."
   ]
  }
 ],
 "metadata": {
  "colab": {
   "collapsed_sections": [],
   "name": "Keras.ipynb",
   "provenance": []
  },
  "kernelspec": {
   "display_name": "Python 3 (ipykernel)",
   "language": "python",
   "name": "python3"
  },
  "language_info": {
   "codemirror_mode": {
    "name": "ipython",
    "version": 3
   },
   "file_extension": ".py",
   "mimetype": "text/x-python",
   "name": "python",
   "nbconvert_exporter": "python",
   "pygments_lexer": "ipython3",
   "version": "3.9.13"
  }
 },
 "nbformat": 4,
 "nbformat_minor": 1
}
