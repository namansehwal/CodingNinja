{
 "cells": [
  {
   "cell_type": "code",
   "execution_count": 1,
   "id": "f0f2e28a",
   "metadata": {},
   "outputs": [],
   "source": [
    "from keras.models import Sequential"
   ]
  },
  {
   "cell_type": "code",
   "execution_count": 2,
   "id": "3ddf5a05",
   "metadata": {},
   "outputs": [],
   "source": [
    "#creating model\n",
    "model = Sequential()"
   ]
  },
  {
   "cell_type": "code",
   "execution_count": 3,
   "id": "6fb4ecc1",
   "metadata": {},
   "outputs": [],
   "source": [
    "from keras.layers import Dense"
   ]
  },
  {
   "cell_type": "code",
   "execution_count": 4,
   "id": "8eabfbfa",
   "metadata": {},
   "outputs": [],
   "source": [
    "layer1 = Dense(units=32, activation = 'relu', input_dim = 30)\n",
    "model.add(layer1)\n",
    "model.add(Dense(units=16, activation = 'relu'))\n",
    "model.add(Dense(units=1, activation = 'sigmoid'))"
   ]
  },
  {
   "cell_type": "raw",
   "id": "65d20327",
   "metadata": {},
   "source": [
    "layer1 = Dense(units=32, activation = 'relu', input_dim = 30)\n",
    "model.add(layer1)\n",
    "model.add(Dense(units=16, activation = 'relu'))\n",
    "model.add(Dense(units=1, activation = 'sigmoid'))"
   ]
  },
  {
   "cell_type": "code",
   "execution_count": 5,
   "id": "8d9aae48",
   "metadata": {},
   "outputs": [],
   "source": [
    "model.compile(optimizer='adam', loss='binary_crossentropy', metrics=['accuracy'])"
   ]
  },
  {
   "cell_type": "raw",
   "id": "4209a95f",
   "metadata": {},
   "source": [
    "model.compile(optimizer='adam', loss='binary_crossentropy', metrics=['accuracy'])"
   ]
  },
  {
   "cell_type": "code",
   "execution_count": 6,
   "id": "28a4eff5",
   "metadata": {},
   "outputs": [],
   "source": [
    "from sklearn import datasets\n",
    "cancer = datasets.load_breast_cancer()\n",
    "from sklearn.model_selection import train_test_split\n",
    "\n",
    "x_train, x_test, y_train, y_test = train_test_split(cancer.data, cancer.target, test_size = 0.2, random_state = 0)"
   ]
  },
  {
   "cell_type": "code",
   "execution_count": 7,
   "id": "76479a3d",
   "metadata": {},
   "outputs": [],
   "source": [
    "from sklearn.preprocessing import StandardScaler\n",
    "\n",
    "sc = StandardScaler()\n",
    "x_train = sc.fit_transform(x_train)\n",
    "x_test = sc.transform(x_test)"
   ]
  },
  {
   "cell_type": "raw",
   "id": "6b821cd0",
   "metadata": {},
   "source": [
    "from sklearn import datasets\n",
    "cancer = datasets.load_breast_cancer()\n",
    "from sklearn.model_selection import train_test_split\n",
    "\n",
    "x_train, x_test, y_train, y_test = train_test_split(cancer.data, cancer.target, test_size = 0.2, random_state = 0)\n",
    "\n",
    "from sklearn.preprocessing import StandardScaler\n",
    "\n",
    "sc = StandardScaler()\n",
    "x_train = sc.fit_transform(x_train)\n",
    "x_test = sc.transform(x_test)"
   ]
  },
  {
   "cell_type": "code",
   "execution_count": 8,
   "id": "21221c80",
   "metadata": {
    "scrolled": true
   },
   "outputs": [
    {
     "name": "stdout",
     "output_type": "stream",
     "text": [
      "Epoch 1/100\n",
      "10/10 [==============================] - 1s 14ms/step - loss: 0.8455 - accuracy: 0.3626 - val_loss: 0.6905 - val_accuracy: 0.4123\n",
      "Epoch 2/100\n",
      "10/10 [==============================] - 0s 6ms/step - loss: 0.7020 - accuracy: 0.4044 - val_loss: 0.5921 - val_accuracy: 0.5526\n",
      "Epoch 3/100\n",
      "10/10 [==============================] - 0s 5ms/step - loss: 0.6086 - accuracy: 0.6264 - val_loss: 0.5252 - val_accuracy: 0.7368\n",
      "Epoch 4/100\n",
      "10/10 [==============================] - 0s 5ms/step - loss: 0.5379 - accuracy: 0.7912 - val_loss: 0.4666 - val_accuracy: 0.8509\n",
      "Epoch 5/100\n",
      "10/10 [==============================] - 0s 5ms/step - loss: 0.4734 - accuracy: 0.8835 - val_loss: 0.4079 - val_accuracy: 0.8860\n",
      "Epoch 6/100\n",
      "10/10 [==============================] - 0s 5ms/step - loss: 0.4069 - accuracy: 0.9231 - val_loss: 0.3472 - val_accuracy: 0.9386\n",
      "Epoch 7/100\n",
      "10/10 [==============================] - 0s 5ms/step - loss: 0.3411 - accuracy: 0.9516 - val_loss: 0.2900 - val_accuracy: 0.9474\n",
      "Epoch 8/100\n",
      "10/10 [==============================] - 0s 5ms/step - loss: 0.2795 - accuracy: 0.9626 - val_loss: 0.2428 - val_accuracy: 0.9386\n",
      "Epoch 9/100\n",
      "10/10 [==============================] - 0s 6ms/step - loss: 0.2292 - accuracy: 0.9692 - val_loss: 0.2056 - val_accuracy: 0.9474\n",
      "Epoch 10/100\n",
      "10/10 [==============================] - 0s 5ms/step - loss: 0.1900 - accuracy: 0.9736 - val_loss: 0.1782 - val_accuracy: 0.9561\n",
      "Epoch 11/100\n",
      "10/10 [==============================] - 0s 5ms/step - loss: 0.1592 - accuracy: 0.9758 - val_loss: 0.1584 - val_accuracy: 0.9474\n",
      "Epoch 12/100\n",
      "10/10 [==============================] - 0s 5ms/step - loss: 0.1370 - accuracy: 0.9780 - val_loss: 0.1425 - val_accuracy: 0.9561\n",
      "Epoch 13/100\n",
      "10/10 [==============================] - 0s 5ms/step - loss: 0.1205 - accuracy: 0.9780 - val_loss: 0.1310 - val_accuracy: 0.9561\n",
      "Epoch 14/100\n",
      "10/10 [==============================] - 0s 5ms/step - loss: 0.1078 - accuracy: 0.9802 - val_loss: 0.1218 - val_accuracy: 0.9561\n",
      "Epoch 15/100\n",
      "10/10 [==============================] - 0s 5ms/step - loss: 0.0982 - accuracy: 0.9802 - val_loss: 0.1148 - val_accuracy: 0.9474\n",
      "Epoch 16/100\n",
      "10/10 [==============================] - 0s 5ms/step - loss: 0.0906 - accuracy: 0.9824 - val_loss: 0.1093 - val_accuracy: 0.9474\n",
      "Epoch 17/100\n",
      "10/10 [==============================] - 0s 5ms/step - loss: 0.0845 - accuracy: 0.9824 - val_loss: 0.1045 - val_accuracy: 0.9561\n",
      "Epoch 18/100\n",
      "10/10 [==============================] - 0s 5ms/step - loss: 0.0794 - accuracy: 0.9824 - val_loss: 0.1005 - val_accuracy: 0.9561\n",
      "Epoch 19/100\n",
      "10/10 [==============================] - 0s 5ms/step - loss: 0.0753 - accuracy: 0.9824 - val_loss: 0.0967 - val_accuracy: 0.9561\n",
      "Epoch 20/100\n",
      "10/10 [==============================] - 0s 5ms/step - loss: 0.0717 - accuracy: 0.9846 - val_loss: 0.0927 - val_accuracy: 0.9561\n",
      "Epoch 21/100\n",
      "10/10 [==============================] - 0s 5ms/step - loss: 0.0690 - accuracy: 0.9868 - val_loss: 0.0895 - val_accuracy: 0.9561\n",
      "Epoch 22/100\n",
      "10/10 [==============================] - 0s 5ms/step - loss: 0.0668 - accuracy: 0.9868 - val_loss: 0.0877 - val_accuracy: 0.9561\n",
      "Epoch 23/100\n",
      "10/10 [==============================] - 0s 5ms/step - loss: 0.0642 - accuracy: 0.9868 - val_loss: 0.0857 - val_accuracy: 0.9561\n",
      "Epoch 24/100\n",
      "10/10 [==============================] - 0s 5ms/step - loss: 0.0619 - accuracy: 0.9868 - val_loss: 0.0839 - val_accuracy: 0.9561\n",
      "Epoch 25/100\n",
      "10/10 [==============================] - 0s 5ms/step - loss: 0.0600 - accuracy: 0.9868 - val_loss: 0.0824 - val_accuracy: 0.9561\n",
      "Epoch 26/100\n",
      "10/10 [==============================] - 0s 5ms/step - loss: 0.0581 - accuracy: 0.9868 - val_loss: 0.0808 - val_accuracy: 0.9561\n",
      "Epoch 27/100\n",
      "10/10 [==============================] - 0s 5ms/step - loss: 0.0566 - accuracy: 0.9868 - val_loss: 0.0794 - val_accuracy: 0.9561\n",
      "Epoch 28/100\n",
      "10/10 [==============================] - 0s 5ms/step - loss: 0.0549 - accuracy: 0.9868 - val_loss: 0.0790 - val_accuracy: 0.9561\n",
      "Epoch 29/100\n",
      "10/10 [==============================] - 0s 5ms/step - loss: 0.0538 - accuracy: 0.9868 - val_loss: 0.0788 - val_accuracy: 0.9561\n",
      "Epoch 30/100\n",
      "10/10 [==============================] - 0s 5ms/step - loss: 0.0527 - accuracy: 0.9868 - val_loss: 0.0777 - val_accuracy: 0.9561\n",
      "Epoch 31/100\n",
      "10/10 [==============================] - 0s 5ms/step - loss: 0.0515 - accuracy: 0.9890 - val_loss: 0.0771 - val_accuracy: 0.9561\n",
      "Epoch 32/100\n",
      "10/10 [==============================] - 0s 5ms/step - loss: 0.0504 - accuracy: 0.9890 - val_loss: 0.0760 - val_accuracy: 0.9561\n",
      "Epoch 33/100\n",
      "10/10 [==============================] - 0s 5ms/step - loss: 0.0495 - accuracy: 0.9890 - val_loss: 0.0747 - val_accuracy: 0.9561\n",
      "Epoch 34/100\n",
      "10/10 [==============================] - 0s 5ms/step - loss: 0.0486 - accuracy: 0.9890 - val_loss: 0.0738 - val_accuracy: 0.9561\n",
      "Epoch 35/100\n",
      "10/10 [==============================] - 0s 5ms/step - loss: 0.0476 - accuracy: 0.9912 - val_loss: 0.0737 - val_accuracy: 0.9561\n",
      "Epoch 36/100\n",
      "10/10 [==============================] - 0s 5ms/step - loss: 0.0468 - accuracy: 0.9912 - val_loss: 0.0740 - val_accuracy: 0.9561\n",
      "Epoch 37/100\n",
      "10/10 [==============================] - 0s 5ms/step - loss: 0.0463 - accuracy: 0.9912 - val_loss: 0.0736 - val_accuracy: 0.9561\n",
      "Epoch 38/100\n",
      "10/10 [==============================] - 0s 5ms/step - loss: 0.0458 - accuracy: 0.9912 - val_loss: 0.0734 - val_accuracy: 0.9561\n",
      "Epoch 39/100\n",
      "10/10 [==============================] - 0s 5ms/step - loss: 0.0451 - accuracy: 0.9912 - val_loss: 0.0731 - val_accuracy: 0.9649\n",
      "Epoch 40/100\n",
      "10/10 [==============================] - 0s 5ms/step - loss: 0.0443 - accuracy: 0.9912 - val_loss: 0.0723 - val_accuracy: 0.9561\n",
      "Epoch 41/100\n",
      "10/10 [==============================] - 0s 5ms/step - loss: 0.0437 - accuracy: 0.9912 - val_loss: 0.0723 - val_accuracy: 0.9649\n",
      "Epoch 42/100\n",
      "10/10 [==============================] - 0s 5ms/step - loss: 0.0430 - accuracy: 0.9912 - val_loss: 0.0718 - val_accuracy: 0.9561\n",
      "Epoch 43/100\n",
      "10/10 [==============================] - 0s 5ms/step - loss: 0.0423 - accuracy: 0.9912 - val_loss: 0.0716 - val_accuracy: 0.9561\n",
      "Epoch 44/100\n",
      "10/10 [==============================] - 0s 5ms/step - loss: 0.0418 - accuracy: 0.9912 - val_loss: 0.0711 - val_accuracy: 0.9561\n",
      "Epoch 45/100\n",
      "10/10 [==============================] - 0s 5ms/step - loss: 0.0411 - accuracy: 0.9912 - val_loss: 0.0707 - val_accuracy: 0.9561\n",
      "Epoch 46/100\n",
      "10/10 [==============================] - 0s 5ms/step - loss: 0.0405 - accuracy: 0.9912 - val_loss: 0.0704 - val_accuracy: 0.9561\n",
      "Epoch 47/100\n",
      "10/10 [==============================] - 0s 5ms/step - loss: 0.0401 - accuracy: 0.9912 - val_loss: 0.0701 - val_accuracy: 0.9649\n",
      "Epoch 48/100\n",
      "10/10 [==============================] - 0s 5ms/step - loss: 0.0396 - accuracy: 0.9912 - val_loss: 0.0698 - val_accuracy: 0.9561\n",
      "Epoch 49/100\n",
      "10/10 [==============================] - 0s 5ms/step - loss: 0.0394 - accuracy: 0.9912 - val_loss: 0.0697 - val_accuracy: 0.9737\n",
      "Epoch 50/100\n",
      "10/10 [==============================] - 0s 5ms/step - loss: 0.0389 - accuracy: 0.9912 - val_loss: 0.0694 - val_accuracy: 0.9737\n",
      "Epoch 51/100\n",
      "10/10 [==============================] - 0s 5ms/step - loss: 0.0383 - accuracy: 0.9912 - val_loss: 0.0689 - val_accuracy: 0.9649\n",
      "Epoch 52/100\n",
      "10/10 [==============================] - 0s 5ms/step - loss: 0.0378 - accuracy: 0.9912 - val_loss: 0.0683 - val_accuracy: 0.9561\n",
      "Epoch 53/100\n",
      "10/10 [==============================] - 0s 5ms/step - loss: 0.0371 - accuracy: 0.9912 - val_loss: 0.0674 - val_accuracy: 0.9649\n",
      "Epoch 54/100\n",
      "10/10 [==============================] - 0s 5ms/step - loss: 0.0366 - accuracy: 0.9912 - val_loss: 0.0676 - val_accuracy: 0.9649\n",
      "Epoch 55/100\n",
      "10/10 [==============================] - 0s 5ms/step - loss: 0.0362 - accuracy: 0.9912 - val_loss: 0.0678 - val_accuracy: 0.9649\n",
      "Epoch 56/100\n",
      "10/10 [==============================] - 0s 6ms/step - loss: 0.0358 - accuracy: 0.9912 - val_loss: 0.0672 - val_accuracy: 0.9649\n",
      "Epoch 57/100\n",
      "10/10 [==============================] - 0s 5ms/step - loss: 0.0353 - accuracy: 0.9912 - val_loss: 0.0666 - val_accuracy: 0.9649\n",
      "Epoch 58/100\n",
      "10/10 [==============================] - 0s 5ms/step - loss: 0.0348 - accuracy: 0.9912 - val_loss: 0.0679 - val_accuracy: 0.9649\n"
     ]
    },
    {
     "name": "stdout",
     "output_type": "stream",
     "text": [
      "Epoch 59/100\n",
      "10/10 [==============================] - 0s 5ms/step - loss: 0.0344 - accuracy: 0.9912 - val_loss: 0.0684 - val_accuracy: 0.9649\n",
      "Epoch 60/100\n",
      "10/10 [==============================] - 0s 5ms/step - loss: 0.0339 - accuracy: 0.9912 - val_loss: 0.0679 - val_accuracy: 0.9737\n",
      "Epoch 61/100\n",
      "10/10 [==============================] - 0s 5ms/step - loss: 0.0335 - accuracy: 0.9912 - val_loss: 0.0674 - val_accuracy: 0.9737\n",
      "Epoch 62/100\n",
      "10/10 [==============================] - 0s 5ms/step - loss: 0.0333 - accuracy: 0.9912 - val_loss: 0.0668 - val_accuracy: 0.9825\n",
      "Epoch 63/100\n",
      "10/10 [==============================] - 0s 5ms/step - loss: 0.0327 - accuracy: 0.9912 - val_loss: 0.0661 - val_accuracy: 0.9825\n",
      "Epoch 64/100\n",
      "10/10 [==============================] - 0s 5ms/step - loss: 0.0325 - accuracy: 0.9912 - val_loss: 0.0664 - val_accuracy: 0.9825\n",
      "Epoch 65/100\n",
      "10/10 [==============================] - 0s 5ms/step - loss: 0.0319 - accuracy: 0.9912 - val_loss: 0.0658 - val_accuracy: 0.9825\n",
      "Epoch 66/100\n",
      "10/10 [==============================] - 0s 5ms/step - loss: 0.0315 - accuracy: 0.9912 - val_loss: 0.0654 - val_accuracy: 0.9825\n",
      "Epoch 67/100\n",
      "10/10 [==============================] - 0s 5ms/step - loss: 0.0312 - accuracy: 0.9912 - val_loss: 0.0646 - val_accuracy: 0.9737\n",
      "Epoch 68/100\n",
      "10/10 [==============================] - 0s 5ms/step - loss: 0.0307 - accuracy: 0.9912 - val_loss: 0.0630 - val_accuracy: 0.9649\n",
      "Epoch 69/100\n",
      "10/10 [==============================] - 0s 5ms/step - loss: 0.0310 - accuracy: 0.9912 - val_loss: 0.0625 - val_accuracy: 0.9649\n",
      "Epoch 70/100\n",
      "10/10 [==============================] - 0s 5ms/step - loss: 0.0305 - accuracy: 0.9912 - val_loss: 0.0609 - val_accuracy: 0.9649\n",
      "Epoch 71/100\n",
      "10/10 [==============================] - 0s 5ms/step - loss: 0.0301 - accuracy: 0.9912 - val_loss: 0.0608 - val_accuracy: 0.9649\n",
      "Epoch 72/100\n",
      "10/10 [==============================] - 0s 5ms/step - loss: 0.0291 - accuracy: 0.9934 - val_loss: 0.0703 - val_accuracy: 0.9737\n",
      "Epoch 73/100\n",
      "10/10 [==============================] - 0s 5ms/step - loss: 0.0314 - accuracy: 0.9912 - val_loss: 0.0733 - val_accuracy: 0.9737\n",
      "Epoch 74/100\n",
      "10/10 [==============================] - 0s 5ms/step - loss: 0.0305 - accuracy: 0.9912 - val_loss: 0.0714 - val_accuracy: 0.9737\n",
      "Epoch 75/100\n",
      "10/10 [==============================] - 0s 5ms/step - loss: 0.0294 - accuracy: 0.9934 - val_loss: 0.0694 - val_accuracy: 0.9737\n",
      "Epoch 76/100\n",
      "10/10 [==============================] - 0s 5ms/step - loss: 0.0284 - accuracy: 0.9934 - val_loss: 0.0683 - val_accuracy: 0.9737\n",
      "Epoch 77/100\n",
      "10/10 [==============================] - 0s 5ms/step - loss: 0.0281 - accuracy: 0.9912 - val_loss: 0.0680 - val_accuracy: 0.9825\n",
      "Epoch 78/100\n",
      "10/10 [==============================] - 0s 5ms/step - loss: 0.0277 - accuracy: 0.9912 - val_loss: 0.0682 - val_accuracy: 0.9825\n",
      "Epoch 79/100\n",
      "10/10 [==============================] - 0s 5ms/step - loss: 0.0272 - accuracy: 0.9912 - val_loss: 0.0673 - val_accuracy: 0.9825\n",
      "Epoch 80/100\n",
      "10/10 [==============================] - 0s 5ms/step - loss: 0.0268 - accuracy: 0.9912 - val_loss: 0.0664 - val_accuracy: 0.9825\n",
      "Epoch 81/100\n",
      "10/10 [==============================] - 0s 5ms/step - loss: 0.0265 - accuracy: 0.9912 - val_loss: 0.0650 - val_accuracy: 0.9825\n",
      "Epoch 82/100\n",
      "10/10 [==============================] - 0s 5ms/step - loss: 0.0261 - accuracy: 0.9912 - val_loss: 0.0643 - val_accuracy: 0.9825\n",
      "Epoch 83/100\n",
      "10/10 [==============================] - 0s 5ms/step - loss: 0.0260 - accuracy: 0.9912 - val_loss: 0.0669 - val_accuracy: 0.9825\n",
      "Epoch 84/100\n",
      "10/10 [==============================] - 0s 5ms/step - loss: 0.0256 - accuracy: 0.9934 - val_loss: 0.0684 - val_accuracy: 0.9825\n",
      "Epoch 85/100\n",
      "10/10 [==============================] - 0s 5ms/step - loss: 0.0252 - accuracy: 0.9912 - val_loss: 0.0680 - val_accuracy: 0.9825\n",
      "Epoch 86/100\n",
      "10/10 [==============================] - 0s 5ms/step - loss: 0.0248 - accuracy: 0.9912 - val_loss: 0.0660 - val_accuracy: 0.9825\n",
      "Epoch 87/100\n",
      "10/10 [==============================] - 0s 5ms/step - loss: 0.0243 - accuracy: 0.9912 - val_loss: 0.0647 - val_accuracy: 0.9825\n",
      "Epoch 88/100\n",
      "10/10 [==============================] - 0s 5ms/step - loss: 0.0241 - accuracy: 0.9912 - val_loss: 0.0633 - val_accuracy: 0.9825\n",
      "Epoch 89/100\n",
      "10/10 [==============================] - 0s 6ms/step - loss: 0.0236 - accuracy: 0.9912 - val_loss: 0.0619 - val_accuracy: 0.9825\n",
      "Epoch 90/100\n",
      "10/10 [==============================] - 0s 5ms/step - loss: 0.0232 - accuracy: 0.9912 - val_loss: 0.0607 - val_accuracy: 0.9825\n",
      "Epoch 91/100\n",
      "10/10 [==============================] - 0s 5ms/step - loss: 0.0229 - accuracy: 0.9912 - val_loss: 0.0605 - val_accuracy: 0.9825\n",
      "Epoch 92/100\n",
      "10/10 [==============================] - 0s 5ms/step - loss: 0.0226 - accuracy: 0.9912 - val_loss: 0.0590 - val_accuracy: 0.9825\n",
      "Epoch 93/100\n",
      "10/10 [==============================] - 0s 5ms/step - loss: 0.0222 - accuracy: 0.9912 - val_loss: 0.0585 - val_accuracy: 0.9825\n",
      "Epoch 94/100\n",
      "10/10 [==============================] - 0s 5ms/step - loss: 0.0219 - accuracy: 0.9934 - val_loss: 0.0585 - val_accuracy: 0.9825\n",
      "Epoch 95/100\n",
      "10/10 [==============================] - 0s 5ms/step - loss: 0.0216 - accuracy: 0.9934 - val_loss: 0.0575 - val_accuracy: 0.9825\n",
      "Epoch 96/100\n",
      "10/10 [==============================] - 0s 5ms/step - loss: 0.0212 - accuracy: 0.9934 - val_loss: 0.0563 - val_accuracy: 0.9825\n",
      "Epoch 97/100\n",
      "10/10 [==============================] - 0s 5ms/step - loss: 0.0209 - accuracy: 0.9934 - val_loss: 0.0553 - val_accuracy: 0.9825\n",
      "Epoch 98/100\n",
      "10/10 [==============================] - 0s 6ms/step - loss: 0.0206 - accuracy: 0.9934 - val_loss: 0.0552 - val_accuracy: 0.9825\n",
      "Epoch 99/100\n",
      "10/10 [==============================] - 0s 6ms/step - loss: 0.0204 - accuracy: 0.9934 - val_loss: 0.0541 - val_accuracy: 0.9825\n",
      "Epoch 100/100\n",
      "10/10 [==============================] - 0s 6ms/step - loss: 0.0200 - accuracy: 0.9934 - val_loss: 0.0533 - val_accuracy: 0.9825\n"
     ]
    },
    {
     "data": {
      "text/plain": [
       "<keras.callbacks.History at 0x1fa2bdcae80>"
      ]
     },
     "execution_count": 8,
     "metadata": {},
     "output_type": "execute_result"
    }
   ],
   "source": [
    "model.fit(x_train, y_train, epochs=100, batch_size = 50, validation_data=(x_test, y_test))"
   ]
  },
  {
   "cell_type": "raw",
   "id": "5eb121f1",
   "metadata": {},
   "source": [
    "model.fit(x_train, y_train, epochs=20, batch_size = 50, validation_data=(x_test, y_test))"
   ]
  },
  {
   "cell_type": "code",
   "execution_count": 9,
   "id": "72bc118e",
   "metadata": {},
   "outputs": [
    {
     "data": {
      "text/plain": [
       "(455, 30)"
      ]
     },
     "execution_count": 9,
     "metadata": {},
     "output_type": "execute_result"
    }
   ],
   "source": [
    "x_train.shape"
   ]
  },
  {
   "cell_type": "code",
   "execution_count": 10,
   "id": "8f743a08",
   "metadata": {},
   "outputs": [
    {
     "data": {
      "text/plain": [
       "(114, 30)"
      ]
     },
     "execution_count": 10,
     "metadata": {},
     "output_type": "execute_result"
    }
   ],
   "source": [
    "x_test.shape"
   ]
  },
  {
   "cell_type": "code",
   "execution_count": 11,
   "id": "105d66f6",
   "metadata": {
    "scrolled": true
   },
   "outputs": [
    {
     "name": "stdout",
     "output_type": "stream",
     "text": [
      "Epoch 1/20\n",
      "10/10 [==============================] - 0s 8ms/step - loss: 0.0196 - accuracy: 0.9934 - val_loss: 0.0524 - val_accuracy: 0.9825\n",
      "Epoch 2/20\n",
      "10/10 [==============================] - 0s 8ms/step - loss: 0.0194 - accuracy: 0.9934 - val_loss: 0.0526 - val_accuracy: 0.9825\n",
      "Epoch 3/20\n",
      "10/10 [==============================] - 0s 7ms/step - loss: 0.0191 - accuracy: 0.9934 - val_loss: 0.0520 - val_accuracy: 0.9825\n",
      "Epoch 4/20\n",
      "10/10 [==============================] - 0s 7ms/step - loss: 0.0187 - accuracy: 0.9934 - val_loss: 0.0512 - val_accuracy: 0.9825\n",
      "Epoch 5/20\n",
      "10/10 [==============================] - 0s 7ms/step - loss: 0.0184 - accuracy: 0.9934 - val_loss: 0.0503 - val_accuracy: 0.9825\n",
      "Epoch 6/20\n",
      "10/10 [==============================] - 0s 7ms/step - loss: 0.0183 - accuracy: 0.9934 - val_loss: 0.0489 - val_accuracy: 0.9825\n",
      "Epoch 7/20\n",
      "10/10 [==============================] - 0s 7ms/step - loss: 0.0178 - accuracy: 0.9934 - val_loss: 0.0481 - val_accuracy: 0.9825\n",
      "Epoch 8/20\n",
      "10/10 [==============================] - 0s 7ms/step - loss: 0.0174 - accuracy: 0.9956 - val_loss: 0.0481 - val_accuracy: 0.9825\n",
      "Epoch 9/20\n",
      "10/10 [==============================] - 0s 7ms/step - loss: 0.0170 - accuracy: 0.9956 - val_loss: 0.0479 - val_accuracy: 0.9825\n",
      "Epoch 10/20\n",
      "10/10 [==============================] - 0s 6ms/step - loss: 0.0166 - accuracy: 0.9956 - val_loss: 0.0475 - val_accuracy: 0.9825\n",
      "Epoch 11/20\n",
      "10/10 [==============================] - 0s 6ms/step - loss: 0.0163 - accuracy: 0.9956 - val_loss: 0.0464 - val_accuracy: 0.9825\n",
      "Epoch 12/20\n",
      "10/10 [==============================] - 0s 7ms/step - loss: 0.0162 - accuracy: 0.9956 - val_loss: 0.0457 - val_accuracy: 0.9825\n",
      "Epoch 13/20\n",
      "10/10 [==============================] - 0s 6ms/step - loss: 0.0159 - accuracy: 0.9956 - val_loss: 0.0426 - val_accuracy: 0.9825\n",
      "Epoch 14/20\n",
      "10/10 [==============================] - 0s 6ms/step - loss: 0.0158 - accuracy: 0.9956 - val_loss: 0.0405 - val_accuracy: 0.9825\n",
      "Epoch 15/20\n",
      "10/10 [==============================] - 0s 6ms/step - loss: 0.0153 - accuracy: 0.9956 - val_loss: 0.0395 - val_accuracy: 0.9912\n",
      "Epoch 16/20\n",
      "10/10 [==============================] - 0s 6ms/step - loss: 0.0153 - accuracy: 0.9956 - val_loss: 0.0410 - val_accuracy: 0.9912\n",
      "Epoch 17/20\n",
      "10/10 [==============================] - 0s 6ms/step - loss: 0.0162 - accuracy: 0.9956 - val_loss: 0.0397 - val_accuracy: 0.9912\n",
      "Epoch 18/20\n",
      "10/10 [==============================] - 0s 6ms/step - loss: 0.0156 - accuracy: 0.9956 - val_loss: 0.0361 - val_accuracy: 0.9912\n",
      "Epoch 19/20\n",
      "10/10 [==============================] - 0s 6ms/step - loss: 0.0147 - accuracy: 0.9956 - val_loss: 0.0349 - val_accuracy: 0.9825\n",
      "Epoch 20/20\n",
      "10/10 [==============================] - 0s 6ms/step - loss: 0.0143 - accuracy: 0.9956 - val_loss: 0.0340 - val_accuracy: 0.9825\n"
     ]
    },
    {
     "data": {
      "text/plain": [
       "<keras.callbacks.History at 0x1f79f426970>"
      ]
     },
     "execution_count": 11,
     "metadata": {},
     "output_type": "execute_result"
    }
   ],
   "source": [
    "model.fit(x_train, y_train, epochs=20, batch_size = 50, validation_data=(x_test, y_test))"
   ]
  },
  {
   "cell_type": "code",
   "execution_count": 12,
   "id": "2291e55a",
   "metadata": {
    "scrolled": true
   },
   "outputs": [
    {
     "name": "stdout",
     "output_type": "stream",
     "text": [
      "Epoch 1/20\n",
      "10/10 [==============================] - 0s 9ms/step - loss: 0.0137 - accuracy: 0.9956 - val_loss: 0.0334 - val_accuracy: 0.9912\n",
      "Epoch 2/20\n",
      "10/10 [==============================] - 0s 7ms/step - loss: 0.0132 - accuracy: 0.9956 - val_loss: 0.0331 - val_accuracy: 0.9912\n",
      "Epoch 3/20\n",
      "10/10 [==============================] - 0s 8ms/step - loss: 0.0128 - accuracy: 0.9956 - val_loss: 0.0331 - val_accuracy: 0.9912\n",
      "Epoch 4/20\n",
      "10/10 [==============================] - 0s 9ms/step - loss: 0.0124 - accuracy: 0.9956 - val_loss: 0.0327 - val_accuracy: 0.9912\n",
      "Epoch 5/20\n",
      "10/10 [==============================] - 0s 7ms/step - loss: 0.0122 - accuracy: 0.9956 - val_loss: 0.0333 - val_accuracy: 0.9912\n",
      "Epoch 6/20\n",
      "10/10 [==============================] - 0s 8ms/step - loss: 0.0119 - accuracy: 0.9956 - val_loss: 0.0331 - val_accuracy: 0.9912\n",
      "Epoch 7/20\n",
      "10/10 [==============================] - 0s 8ms/step - loss: 0.0116 - accuracy: 0.9956 - val_loss: 0.0334 - val_accuracy: 0.9912\n",
      "Epoch 8/20\n",
      "10/10 [==============================] - 0s 7ms/step - loss: 0.0114 - accuracy: 0.9956 - val_loss: 0.0341 - val_accuracy: 0.9912\n",
      "Epoch 9/20\n",
      "10/10 [==============================] - 0s 6ms/step - loss: 0.0112 - accuracy: 0.9956 - val_loss: 0.0348 - val_accuracy: 0.9912\n",
      "Epoch 10/20\n",
      "10/10 [==============================] - 0s 6ms/step - loss: 0.0110 - accuracy: 0.9956 - val_loss: 0.0354 - val_accuracy: 0.9912\n",
      "Epoch 11/20\n",
      "10/10 [==============================] - 0s 7ms/step - loss: 0.0109 - accuracy: 0.9956 - val_loss: 0.0347 - val_accuracy: 0.9912\n",
      "Epoch 12/20\n",
      "10/10 [==============================] - 0s 6ms/step - loss: 0.0106 - accuracy: 0.9956 - val_loss: 0.0354 - val_accuracy: 0.9825\n",
      "Epoch 13/20\n",
      "10/10 [==============================] - 0s 6ms/step - loss: 0.0104 - accuracy: 0.9956 - val_loss: 0.0351 - val_accuracy: 0.9825\n",
      "Epoch 14/20\n",
      "10/10 [==============================] - 0s 7ms/step - loss: 0.0102 - accuracy: 0.9956 - val_loss: 0.0330 - val_accuracy: 0.9825\n",
      "Epoch 15/20\n",
      "10/10 [==============================] - 0s 6ms/step - loss: 0.0102 - accuracy: 0.9956 - val_loss: 0.0320 - val_accuracy: 0.9825\n",
      "Epoch 16/20\n",
      "10/10 [==============================] - 0s 6ms/step - loss: 0.0100 - accuracy: 0.9956 - val_loss: 0.0318 - val_accuracy: 0.9912\n",
      "Epoch 17/20\n",
      "10/10 [==============================] - 0s 6ms/step - loss: 0.0096 - accuracy: 0.9956 - val_loss: 0.0320 - val_accuracy: 0.9912\n",
      "Epoch 18/20\n",
      "10/10 [==============================] - 0s 13ms/step - loss: 0.0095 - accuracy: 0.9956 - val_loss: 0.0322 - val_accuracy: 0.9912\n",
      "Epoch 19/20\n",
      "10/10 [==============================] - 0s 10ms/step - loss: 0.0092 - accuracy: 0.9956 - val_loss: 0.0321 - val_accuracy: 0.9912\n",
      "Epoch 20/20\n",
      "10/10 [==============================] - 0s 8ms/step - loss: 0.0091 - accuracy: 0.9956 - val_loss: 0.0318 - val_accuracy: 0.9912\n"
     ]
    },
    {
     "data": {
      "text/plain": [
       "<keras.callbacks.History at 0x1fa2bcaff10>"
      ]
     },
     "execution_count": 12,
     "metadata": {},
     "output_type": "execute_result"
    }
   ],
   "source": [
    "model.fit(x_train, y_train, epochs=20, batch_size = 50, validation_data=(x_test, y_test))"
   ]
  },
  {
   "cell_type": "code",
   "execution_count": 13,
   "id": "df3887b3",
   "metadata": {},
   "outputs": [
    {
     "name": "stdout",
     "output_type": "stream",
     "text": [
      "4/4 [==============================] - 0s 2ms/step\n",
      "4/4 [==============================] - 0s 3ms/step - loss: 0.0318 - accuracy: 0.9912\n"
     ]
    },
    {
     "data": {
      "text/plain": [
       "[0.03177753463387489, 0.9912280440330505]"
      ]
     },
     "execution_count": 13,
     "metadata": {},
     "output_type": "execute_result"
    }
   ],
   "source": [
    "predictions = model.predict(x_test)\n",
    "score = model.evaluate(x_test, y_test)\n",
    "score"
   ]
  },
  {
   "cell_type": "code",
   "execution_count": null,
   "id": "2652bac8",
   "metadata": {},
   "outputs": [],
   "source": []
  }
 ],
 "metadata": {
  "kernelspec": {
   "display_name": "Python 3 (ipykernel)",
   "language": "python",
   "name": "python3"
  },
  "language_info": {
   "codemirror_mode": {
    "name": "ipython",
    "version": 3
   },
   "file_extension": ".py",
   "mimetype": "text/x-python",
   "name": "python",
   "nbconvert_exporter": "python",
   "pygments_lexer": "ipython3",
   "version": "3.9.13"
  }
 },
 "nbformat": 4,
 "nbformat_minor": 5
}
